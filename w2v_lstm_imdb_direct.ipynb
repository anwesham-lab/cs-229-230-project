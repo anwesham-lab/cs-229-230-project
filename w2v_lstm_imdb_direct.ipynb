{
  "cells": [
    {
      "cell_type": "markdown",
      "metadata": {
        "id": "FYkgqkoI-9ef"
      },
      "source": [
        "# Installs, Imports, and OS/Path Setup"
      ]
    },
    {
      "cell_type": "code",
      "execution_count": null,
      "metadata": {
        "colab": {
          "base_uri": "https://localhost:8080/"
        },
        "id": "fX-57lhS_Fxn",
        "outputId": "4eecd17e-63ad-4930-bb6b-6ec977da97fe"
      },
      "outputs": [
        {
          "output_type": "stream",
          "name": "stdout",
          "text": [
            "Looking in indexes: https://pypi.org/simple, https://us-python.pkg.dev/colab-wheels/public/simple/\n",
            "Collecting gensim==3.8.3\n",
            "  Downloading gensim-3.8.3-cp37-cp37m-manylinux1_x86_64.whl (24.2 MB)\n",
            "\u001b[K     |████████████████████████████████| 24.2 MB 1.4 MB/s \n",
            "\u001b[?25hRequirement already satisfied: six>=1.5.0 in /usr/local/lib/python3.7/dist-packages (from gensim==3.8.3) (1.15.0)\n",
            "Requirement already satisfied: scipy>=0.18.1 in /usr/local/lib/python3.7/dist-packages (from gensim==3.8.3) (1.4.1)\n",
            "Requirement already satisfied: numpy>=1.11.3 in /usr/local/lib/python3.7/dist-packages (from gensim==3.8.3) (1.21.6)\n",
            "Requirement already satisfied: smart-open>=1.8.1 in /usr/local/lib/python3.7/dist-packages (from gensim==3.8.3) (6.0.0)\n",
            "Installing collected packages: gensim\n",
            "  Attempting uninstall: gensim\n",
            "    Found existing installation: gensim 3.6.0\n",
            "    Uninstalling gensim-3.6.0:\n",
            "      Successfully uninstalled gensim-3.6.0\n",
            "Successfully installed gensim-3.8.3\n",
            "Looking in indexes: https://pypi.org/simple, https://us-python.pkg.dev/colab-wheels/public/simple/\n",
            "Requirement already satisfied: keras in /usr/local/lib/python3.7/dist-packages (2.8.0)\n",
            "Collecting keras\n",
            "  Downloading keras-2.9.0-py2.py3-none-any.whl (1.6 MB)\n",
            "\u001b[K     |████████████████████████████████| 1.6 MB 5.5 MB/s \n",
            "\u001b[?25hInstalling collected packages: keras\n",
            "  Attempting uninstall: keras\n",
            "    Found existing installation: keras 2.8.0\n",
            "    Uninstalling keras-2.8.0:\n",
            "      Successfully uninstalled keras-2.8.0\n",
            "\u001b[31mERROR: pip's dependency resolver does not currently take into account all the packages that are installed. This behaviour is the source of the following dependency conflicts.\n",
            "tensorflow 2.8.2+zzzcolab20220527125636 requires keras<2.9,>=2.8.0rc0, but you have keras 2.9.0 which is incompatible.\u001b[0m\n",
            "Successfully installed keras-2.9.0\n",
            "Looking in indexes: https://pypi.org/simple, https://us-python.pkg.dev/colab-wheels/public/simple/\n",
            "Requirement already satisfied: tensorflow in /usr/local/lib/python3.7/dist-packages (2.8.2+zzzcolab20220527125636)\n",
            "Collecting tensorflow\n",
            "  Downloading tensorflow-2.9.1-cp37-cp37m-manylinux_2_17_x86_64.manylinux2014_x86_64.whl (511.7 MB)\n",
            "\u001b[K     |████████████████████████████████| 511.7 MB 6.3 kB/s \n",
            "\u001b[?25hRequirement already satisfied: google-pasta>=0.1.1 in /usr/local/lib/python3.7/dist-packages (from tensorflow) (0.2.0)\n",
            "Requirement already satisfied: absl-py>=1.0.0 in /usr/local/lib/python3.7/dist-packages (from tensorflow) (1.0.0)\n",
            "Requirement already satisfied: grpcio<2.0,>=1.24.3 in /usr/local/lib/python3.7/dist-packages (from tensorflow) (1.46.3)\n",
            "Requirement already satisfied: six>=1.12.0 in /usr/local/lib/python3.7/dist-packages (from tensorflow) (1.15.0)\n",
            "Requirement already satisfied: keras<2.10.0,>=2.9.0rc0 in /usr/local/lib/python3.7/dist-packages (from tensorflow) (2.9.0)\n",
            "Requirement already satisfied: wrapt>=1.11.0 in /usr/local/lib/python3.7/dist-packages (from tensorflow) (1.14.1)\n",
            "Requirement already satisfied: opt-einsum>=2.3.2 in /usr/local/lib/python3.7/dist-packages (from tensorflow) (3.3.0)\n",
            "Requirement already satisfied: numpy>=1.20 in /usr/local/lib/python3.7/dist-packages (from tensorflow) (1.21.6)\n",
            "Collecting tensorflow-estimator<2.10.0,>=2.9.0rc0\n",
            "  Downloading tensorflow_estimator-2.9.0-py2.py3-none-any.whl (438 kB)\n",
            "\u001b[K     |████████████████████████████████| 438 kB 53.8 MB/s \n",
            "\u001b[?25hCollecting gast<=0.4.0,>=0.2.1\n",
            "  Downloading gast-0.4.0-py3-none-any.whl (9.8 kB)\n",
            "Requirement already satisfied: libclang>=13.0.0 in /usr/local/lib/python3.7/dist-packages (from tensorflow) (14.0.1)\n",
            "Requirement already satisfied: termcolor>=1.1.0 in /usr/local/lib/python3.7/dist-packages (from tensorflow) (1.1.0)\n",
            "Collecting tensorboard<2.10,>=2.9\n",
            "  Downloading tensorboard-2.9.0-py3-none-any.whl (5.8 MB)\n",
            "\u001b[K     |████████████████████████████████| 5.8 MB 40.2 MB/s \n",
            "\u001b[?25hRequirement already satisfied: tensorflow-io-gcs-filesystem>=0.23.1 in /usr/local/lib/python3.7/dist-packages (from tensorflow) (0.26.0)\n",
            "Requirement already satisfied: astunparse>=1.6.0 in /usr/local/lib/python3.7/dist-packages (from tensorflow) (1.6.3)\n",
            "Collecting flatbuffers<2,>=1.12\n",
            "  Downloading flatbuffers-1.12-py2.py3-none-any.whl (15 kB)\n",
            "Requirement already satisfied: protobuf<3.20,>=3.9.2 in /usr/local/lib/python3.7/dist-packages (from tensorflow) (3.17.3)\n",
            "Requirement already satisfied: keras-preprocessing>=1.1.1 in /usr/local/lib/python3.7/dist-packages (from tensorflow) (1.1.2)\n",
            "Requirement already satisfied: packaging in /usr/local/lib/python3.7/dist-packages (from tensorflow) (21.3)\n",
            "Requirement already satisfied: typing-extensions>=3.6.6 in /usr/local/lib/python3.7/dist-packages (from tensorflow) (4.2.0)\n",
            "Requirement already satisfied: h5py>=2.9.0 in /usr/local/lib/python3.7/dist-packages (from tensorflow) (3.1.0)\n",
            "Requirement already satisfied: setuptools in /usr/local/lib/python3.7/dist-packages (from tensorflow) (57.4.0)\n",
            "Requirement already satisfied: wheel<1.0,>=0.23.0 in /usr/local/lib/python3.7/dist-packages (from astunparse>=1.6.0->tensorflow) (0.37.1)\n",
            "Requirement already satisfied: cached-property in /usr/local/lib/python3.7/dist-packages (from h5py>=2.9.0->tensorflow) (1.5.2)\n",
            "Requirement already satisfied: google-auth-oauthlib<0.5,>=0.4.1 in /usr/local/lib/python3.7/dist-packages (from tensorboard<2.10,>=2.9->tensorflow) (0.4.6)\n",
            "Requirement already satisfied: google-auth<3,>=1.6.3 in /usr/local/lib/python3.7/dist-packages (from tensorboard<2.10,>=2.9->tensorflow) (1.35.0)\n",
            "Requirement already satisfied: werkzeug>=1.0.1 in /usr/local/lib/python3.7/dist-packages (from tensorboard<2.10,>=2.9->tensorflow) (1.0.1)\n",
            "Requirement already satisfied: markdown>=2.6.8 in /usr/local/lib/python3.7/dist-packages (from tensorboard<2.10,>=2.9->tensorflow) (3.3.7)\n",
            "Requirement already satisfied: requests<3,>=2.21.0 in /usr/local/lib/python3.7/dist-packages (from tensorboard<2.10,>=2.9->tensorflow) (2.23.0)\n",
            "Requirement already satisfied: tensorboard-plugin-wit>=1.6.0 in /usr/local/lib/python3.7/dist-packages (from tensorboard<2.10,>=2.9->tensorflow) (1.8.1)\n",
            "Requirement already satisfied: tensorboard-data-server<0.7.0,>=0.6.0 in /usr/local/lib/python3.7/dist-packages (from tensorboard<2.10,>=2.9->tensorflow) (0.6.1)\n",
            "Requirement already satisfied: pyasn1-modules>=0.2.1 in /usr/local/lib/python3.7/dist-packages (from google-auth<3,>=1.6.3->tensorboard<2.10,>=2.9->tensorflow) (0.2.8)\n",
            "Requirement already satisfied: cachetools<5.0,>=2.0.0 in /usr/local/lib/python3.7/dist-packages (from google-auth<3,>=1.6.3->tensorboard<2.10,>=2.9->tensorflow) (4.2.4)\n",
            "Requirement already satisfied: rsa<5,>=3.1.4 in /usr/local/lib/python3.7/dist-packages (from google-auth<3,>=1.6.3->tensorboard<2.10,>=2.9->tensorflow) (4.8)\n",
            "Requirement already satisfied: requests-oauthlib>=0.7.0 in /usr/local/lib/python3.7/dist-packages (from google-auth-oauthlib<0.5,>=0.4.1->tensorboard<2.10,>=2.9->tensorflow) (1.3.1)\n",
            "Requirement already satisfied: importlib-metadata>=4.4 in /usr/local/lib/python3.7/dist-packages (from markdown>=2.6.8->tensorboard<2.10,>=2.9->tensorflow) (4.11.4)\n",
            "Requirement already satisfied: zipp>=0.5 in /usr/local/lib/python3.7/dist-packages (from importlib-metadata>=4.4->markdown>=2.6.8->tensorboard<2.10,>=2.9->tensorflow) (3.8.0)\n",
            "Requirement already satisfied: pyasn1<0.5.0,>=0.4.6 in /usr/local/lib/python3.7/dist-packages (from pyasn1-modules>=0.2.1->google-auth<3,>=1.6.3->tensorboard<2.10,>=2.9->tensorflow) (0.4.8)\n",
            "Requirement already satisfied: chardet<4,>=3.0.2 in /usr/local/lib/python3.7/dist-packages (from requests<3,>=2.21.0->tensorboard<2.10,>=2.9->tensorflow) (3.0.4)\n",
            "Requirement already satisfied: certifi>=2017.4.17 in /usr/local/lib/python3.7/dist-packages (from requests<3,>=2.21.0->tensorboard<2.10,>=2.9->tensorflow) (2022.5.18.1)\n",
            "Requirement already satisfied: urllib3!=1.25.0,!=1.25.1,<1.26,>=1.21.1 in /usr/local/lib/python3.7/dist-packages (from requests<3,>=2.21.0->tensorboard<2.10,>=2.9->tensorflow) (1.24.3)\n",
            "Requirement already satisfied: idna<3,>=2.5 in /usr/local/lib/python3.7/dist-packages (from requests<3,>=2.21.0->tensorboard<2.10,>=2.9->tensorflow) (2.10)\n",
            "Requirement already satisfied: oauthlib>=3.0.0 in /usr/local/lib/python3.7/dist-packages (from requests-oauthlib>=0.7.0->google-auth-oauthlib<0.5,>=0.4.1->tensorboard<2.10,>=2.9->tensorflow) (3.2.0)\n",
            "Requirement already satisfied: pyparsing!=3.0.5,>=2.0.2 in /usr/local/lib/python3.7/dist-packages (from packaging->tensorflow) (3.0.9)\n",
            "Installing collected packages: tensorflow-estimator, tensorboard, gast, flatbuffers, tensorflow\n",
            "  Attempting uninstall: tensorflow-estimator\n",
            "    Found existing installation: tensorflow-estimator 2.8.0\n",
            "    Uninstalling tensorflow-estimator-2.8.0:\n",
            "      Successfully uninstalled tensorflow-estimator-2.8.0\n",
            "  Attempting uninstall: tensorboard\n",
            "    Found existing installation: tensorboard 2.8.0\n",
            "    Uninstalling tensorboard-2.8.0:\n",
            "      Successfully uninstalled tensorboard-2.8.0\n",
            "  Attempting uninstall: gast\n",
            "    Found existing installation: gast 0.5.3\n",
            "    Uninstalling gast-0.5.3:\n",
            "      Successfully uninstalled gast-0.5.3\n",
            "  Attempting uninstall: flatbuffers\n",
            "    Found existing installation: flatbuffers 2.0\n",
            "    Uninstalling flatbuffers-2.0:\n",
            "      Successfully uninstalled flatbuffers-2.0\n",
            "  Attempting uninstall: tensorflow\n",
            "    Found existing installation: tensorflow 2.8.2+zzzcolab20220527125636\n",
            "    Uninstalling tensorflow-2.8.2+zzzcolab20220527125636:\n",
            "      Successfully uninstalled tensorflow-2.8.2+zzzcolab20220527125636\n",
            "Successfully installed flatbuffers-1.12 gast-0.4.0 tensorboard-2.9.0 tensorflow-2.9.1 tensorflow-estimator-2.9.0\n",
            "Looking in indexes: https://pypi.org/simple, https://us-python.pkg.dev/colab-wheels/public/simple/\n",
            "Requirement already satisfied: pandas in /usr/local/lib/python3.7/dist-packages (1.3.5)\n",
            "Requirement already satisfied: pytz>=2017.3 in /usr/local/lib/python3.7/dist-packages (from pandas) (2022.1)\n",
            "Requirement already satisfied: numpy>=1.17.3 in /usr/local/lib/python3.7/dist-packages (from pandas) (1.21.6)\n",
            "Requirement already satisfied: python-dateutil>=2.7.3 in /usr/local/lib/python3.7/dist-packages (from pandas) (2.8.2)\n",
            "Requirement already satisfied: six>=1.5 in /usr/local/lib/python3.7/dist-packages (from python-dateutil>=2.7.3->pandas) (1.15.0)\n"
          ]
        }
      ],
      "source": [
        "!pip install gensim==3.8.3\n",
        "!pip install keras --upgrade\n",
        "!pip install tensorflow --upgrade\n",
        "!pip install pandas --upgrade"
      ]
    },
    {
      "cell_type": "code",
      "execution_count": null,
      "metadata": {
        "id": "C_1TzQ09_GWL"
      },
      "outputs": [],
      "source": [
        "# DataFrame\n",
        "import pandas as pd\n",
        "\n",
        "# Matplot\n",
        "import matplotlib.pyplot as plt\n",
        "%matplotlib inline\n",
        "\n",
        "# Scikit-learn\n",
        "from sklearn.model_selection import train_test_split\n",
        "from sklearn.preprocessing import LabelEncoder\n",
        "from sklearn.metrics import confusion_matrix, classification_report, accuracy_score\n",
        "from sklearn.manifold import TSNE\n",
        "from sklearn.feature_extraction.text import TfidfVectorizer\n",
        "\n",
        "# Keras\n",
        "from keras.preprocessing.text import Tokenizer\n",
        "from keras.utils.data_utils import pad_sequences\n",
        "from keras.models import Sequential\n",
        "from keras.layers import Activation, Dense, Dropout, Embedding, Flatten, Conv1D, MaxPooling1D, LSTM, SpatialDropout1D\n",
        "from keras import utils\n",
        "from keras.callbacks import ReduceLROnPlateau, EarlyStopping\n",
        "\n",
        "# nltk\n",
        "import nltk\n",
        "from nltk.corpus import stopwords\n",
        "from  nltk.stem import SnowballStemmer\n",
        "\n",
        "# Word2vec\n",
        "import gensim\n",
        "\n",
        "# Utility\n",
        "import re\n",
        "import numpy as np\n",
        "import os\n",
        "from collections import Counter\n",
        "import logging\n",
        "import time\n",
        "import pickle\n",
        "import itertools\n",
        "\n",
        "# Set log\n",
        "logging.basicConfig(format='%(asctime)s : %(levelname)s : %(message)s', level=logging.INFO)"
      ]
    },
    {
      "cell_type": "markdown",
      "metadata": {
        "id": "tR_QQzLw_ipa"
      },
      "source": [
        "Mounting Drive"
      ]
    },
    {
      "cell_type": "code",
      "execution_count": null,
      "metadata": {
        "id": "i-wgQETm_LXH",
        "colab": {
          "base_uri": "https://localhost:8080/"
        },
        "outputId": "69ed8d76-191e-4123-f2e6-57adb13b9100"
      },
      "outputs": [
        {
          "output_type": "stream",
          "name": "stdout",
          "text": [
            "Mounted at /content/drive\n"
          ]
        }
      ],
      "source": [
        "from google.colab import drive\n",
        "drive.mount('/content/drive')"
      ]
    },
    {
      "cell_type": "markdown",
      "metadata": {
        "id": "QMbylwjg_kN_"
      },
      "source": [
        "Get inside the CS229 Folder"
      ]
    },
    {
      "cell_type": "code",
      "execution_count": null,
      "metadata": {
        "id": "cc0D5vXy_lgj",
        "colab": {
          "base_uri": "https://localhost:8080/"
        },
        "outputId": "f1a4af2e-4237-4525-e815-f5d63dd3fbaa"
      },
      "outputs": [
        {
          "output_type": "stream",
          "name": "stdout",
          "text": [
            "/content/drive/.shortcut-targets-by-id/1E5aaXKX_46t3RbThyMyJYQFjUSzGnkHI/cs229\n"
          ]
        }
      ],
      "source": [
        "%cd /content/drive/MyDrive/cs229"
      ]
    },
    {
      "cell_type": "markdown",
      "metadata": {
        "id": "1Nus-t5dBQYX"
      },
      "source": [
        "Get stop words"
      ]
    },
    {
      "cell_type": "code",
      "execution_count": null,
      "metadata": {
        "id": "fCNLC-doBP20",
        "colab": {
          "base_uri": "https://localhost:8080/"
        },
        "outputId": "1a923c69-6ea4-4c4d-a383-ccdc149e9644"
      },
      "outputs": [
        {
          "output_type": "stream",
          "name": "stdout",
          "text": [
            "[nltk_data] Downloading package stopwords to /root/nltk_data...\n",
            "[nltk_data]   Unzipping corpora/stopwords.zip.\n"
          ]
        },
        {
          "output_type": "execute_result",
          "data": {
            "text/plain": [
              "True"
            ]
          },
          "metadata": {},
          "execution_count": 5
        }
      ],
      "source": [
        "nltk.download('stopwords')"
      ]
    },
    {
      "cell_type": "markdown",
      "metadata": {
        "id": "rmLKKsnW-Dvb"
      },
      "source": [
        "# First Part --> Configuring various settings"
      ]
    },
    {
      "cell_type": "code",
      "execution_count": null,
      "metadata": {
        "id": "6wq9sWiX9aOZ"
      },
      "outputs": [],
      "source": [
        "# TEXT CLENAING\n",
        "TEXT_CLEANING_RE = \"@\\S+|https?:\\S+|http?:\\S|[^A-Za-z0-9]+\"\n",
        "\n",
        "# WORD2VEC \n",
        "W2V_SIZE = 300\n",
        "W2V_WINDOW = 7\n",
        "W2V_EPOCH = 32\n",
        "W2V_MIN_COUNT = 10\n",
        "\n",
        "# KERAS\n",
        "SEQUENCE_LENGTH = 300\n",
        "EPOCHS = 8\n",
        "BATCH_SIZE = 1024\n",
        "\n",
        "# SENTIMENT\n",
        "POSITIVE = \"POSITIVE\"\n",
        "NEGATIVE = \"NEGATIVE\"\n",
        "NEUTRAL = \"NEUTRAL\"\n",
        "SENTIMENT_THRESHOLDS = (0.4, 0.7)\n",
        "\n",
        "# EXPORT\n",
        "KERAS_MODEL = \"model.h5\"\n",
        "WORD2VEC_MODEL = \"model.w2v\"\n",
        "TOKENIZER_MODEL = \"tokenizer.pkl\"\n",
        "ENCODER_MODEL = \"encoder.pkl\""
      ]
    },
    {
      "cell_type": "markdown",
      "metadata": {
        "id": "OyGsy6v2BnkA"
      },
      "source": [
        "# Read in IMDb Data\n",
        "\n",
        "Set up the pandas, use path etc. "
      ]
    },
    {
      "cell_type": "code",
      "execution_count": null,
      "metadata": {
        "id": "gxyCi_P7BZs-"
      },
      "outputs": [],
      "source": [
        "cols = ['label', 'input']\n",
        "train = pd.read_csv('imdb/imdb_data_train.csv', header=None, names=cols)\n",
        "eval = pd.read_csv('imdb/imdb_data_dev.csv', header=None, names=cols)\n",
        "test = pd.read_csv('imdb/imdb_data_test.csv', header=None, names=cols)"
      ]
    },
    {
      "cell_type": "code",
      "execution_count": null,
      "metadata": {
        "id": "BJrXnUWbCfJr",
        "colab": {
          "base_uri": "https://localhost:8080/",
          "height": 206
        },
        "outputId": "b686bb5f-92e5-48dc-8a63-e0a474e52735"
      },
      "outputs": [
        {
          "output_type": "execute_result",
          "data": {
            "text/plain": [
              "      label                                              input\n",
              "0  positive  .....whoops - looks like it's gonna cost you a...\n",
              "1  negative  In 1970, feminists invaded the 'Miss World' be...\n",
              "2  positive  \"Johnny Dangerously\" is a sort of hit and miss...\n",
              "3  positive  Despite its age, this film retains its undoubt...\n",
              "4  negative  Recap: Full moon. A creature, a huge werewolf,..."
            ],
            "text/html": [
              "\n",
              "  <div id=\"df-0f2aa621-b26f-4678-a153-c876ed81f114\">\n",
              "    <div class=\"colab-df-container\">\n",
              "      <div>\n",
              "<style scoped>\n",
              "    .dataframe tbody tr th:only-of-type {\n",
              "        vertical-align: middle;\n",
              "    }\n",
              "\n",
              "    .dataframe tbody tr th {\n",
              "        vertical-align: top;\n",
              "    }\n",
              "\n",
              "    .dataframe thead th {\n",
              "        text-align: right;\n",
              "    }\n",
              "</style>\n",
              "<table border=\"1\" class=\"dataframe\">\n",
              "  <thead>\n",
              "    <tr style=\"text-align: right;\">\n",
              "      <th></th>\n",
              "      <th>label</th>\n",
              "      <th>input</th>\n",
              "    </tr>\n",
              "  </thead>\n",
              "  <tbody>\n",
              "    <tr>\n",
              "      <th>0</th>\n",
              "      <td>positive</td>\n",
              "      <td>.....whoops - looks like it's gonna cost you a...</td>\n",
              "    </tr>\n",
              "    <tr>\n",
              "      <th>1</th>\n",
              "      <td>negative</td>\n",
              "      <td>In 1970, feminists invaded the 'Miss World' be...</td>\n",
              "    </tr>\n",
              "    <tr>\n",
              "      <th>2</th>\n",
              "      <td>positive</td>\n",
              "      <td>\"Johnny Dangerously\" is a sort of hit and miss...</td>\n",
              "    </tr>\n",
              "    <tr>\n",
              "      <th>3</th>\n",
              "      <td>positive</td>\n",
              "      <td>Despite its age, this film retains its undoubt...</td>\n",
              "    </tr>\n",
              "    <tr>\n",
              "      <th>4</th>\n",
              "      <td>negative</td>\n",
              "      <td>Recap: Full moon. A creature, a huge werewolf,...</td>\n",
              "    </tr>\n",
              "  </tbody>\n",
              "</table>\n",
              "</div>\n",
              "      <button class=\"colab-df-convert\" onclick=\"convertToInteractive('df-0f2aa621-b26f-4678-a153-c876ed81f114')\"\n",
              "              title=\"Convert this dataframe to an interactive table.\"\n",
              "              style=\"display:none;\">\n",
              "        \n",
              "  <svg xmlns=\"http://www.w3.org/2000/svg\" height=\"24px\"viewBox=\"0 0 24 24\"\n",
              "       width=\"24px\">\n",
              "    <path d=\"M0 0h24v24H0V0z\" fill=\"none\"/>\n",
              "    <path d=\"M18.56 5.44l.94 2.06.94-2.06 2.06-.94-2.06-.94-.94-2.06-.94 2.06-2.06.94zm-11 1L8.5 8.5l.94-2.06 2.06-.94-2.06-.94L8.5 2.5l-.94 2.06-2.06.94zm10 10l.94 2.06.94-2.06 2.06-.94-2.06-.94-.94-2.06-.94 2.06-2.06.94z\"/><path d=\"M17.41 7.96l-1.37-1.37c-.4-.4-.92-.59-1.43-.59-.52 0-1.04.2-1.43.59L10.3 9.45l-7.72 7.72c-.78.78-.78 2.05 0 2.83L4 21.41c.39.39.9.59 1.41.59.51 0 1.02-.2 1.41-.59l7.78-7.78 2.81-2.81c.8-.78.8-2.07 0-2.86zM5.41 20L4 18.59l7.72-7.72 1.47 1.35L5.41 20z\"/>\n",
              "  </svg>\n",
              "      </button>\n",
              "      \n",
              "  <style>\n",
              "    .colab-df-container {\n",
              "      display:flex;\n",
              "      flex-wrap:wrap;\n",
              "      gap: 12px;\n",
              "    }\n",
              "\n",
              "    .colab-df-convert {\n",
              "      background-color: #E8F0FE;\n",
              "      border: none;\n",
              "      border-radius: 50%;\n",
              "      cursor: pointer;\n",
              "      display: none;\n",
              "      fill: #1967D2;\n",
              "      height: 32px;\n",
              "      padding: 0 0 0 0;\n",
              "      width: 32px;\n",
              "    }\n",
              "\n",
              "    .colab-df-convert:hover {\n",
              "      background-color: #E2EBFA;\n",
              "      box-shadow: 0px 1px 2px rgba(60, 64, 67, 0.3), 0px 1px 3px 1px rgba(60, 64, 67, 0.15);\n",
              "      fill: #174EA6;\n",
              "    }\n",
              "\n",
              "    [theme=dark] .colab-df-convert {\n",
              "      background-color: #3B4455;\n",
              "      fill: #D2E3FC;\n",
              "    }\n",
              "\n",
              "    [theme=dark] .colab-df-convert:hover {\n",
              "      background-color: #434B5C;\n",
              "      box-shadow: 0px 1px 3px 1px rgba(0, 0, 0, 0.15);\n",
              "      filter: drop-shadow(0px 1px 2px rgba(0, 0, 0, 0.3));\n",
              "      fill: #FFFFFF;\n",
              "    }\n",
              "  </style>\n",
              "\n",
              "      <script>\n",
              "        const buttonEl =\n",
              "          document.querySelector('#df-0f2aa621-b26f-4678-a153-c876ed81f114 button.colab-df-convert');\n",
              "        buttonEl.style.display =\n",
              "          google.colab.kernel.accessAllowed ? 'block' : 'none';\n",
              "\n",
              "        async function convertToInteractive(key) {\n",
              "          const element = document.querySelector('#df-0f2aa621-b26f-4678-a153-c876ed81f114');\n",
              "          const dataTable =\n",
              "            await google.colab.kernel.invokeFunction('convertToInteractive',\n",
              "                                                     [key], {});\n",
              "          if (!dataTable) return;\n",
              "\n",
              "          const docLinkHtml = 'Like what you see? Visit the ' +\n",
              "            '<a target=\"_blank\" href=https://colab.research.google.com/notebooks/data_table.ipynb>data table notebook</a>'\n",
              "            + ' to learn more about interactive tables.';\n",
              "          element.innerHTML = '';\n",
              "          dataTable['output_type'] = 'display_data';\n",
              "          await google.colab.output.renderOutput(dataTable, element);\n",
              "          const docLink = document.createElement('div');\n",
              "          docLink.innerHTML = docLinkHtml;\n",
              "          element.appendChild(docLink);\n",
              "        }\n",
              "      </script>\n",
              "    </div>\n",
              "  </div>\n",
              "  "
            ]
          },
          "metadata": {},
          "execution_count": 8
        }
      ],
      "source": [
        "train.head()"
      ]
    },
    {
      "cell_type": "code",
      "execution_count": null,
      "metadata": {
        "id": "ESu8q6VjCj2P",
        "colab": {
          "base_uri": "https://localhost:8080/"
        },
        "outputId": "7562ea0b-c9de-4bff-8c0c-f1a3db8c0d97"
      },
      "outputs": [
        {
          "output_type": "execute_result",
          "data": {
            "text/plain": [
              "positive    20035\n",
              "negative    19965\n",
              "Name: label, dtype: int64"
            ]
          },
          "metadata": {},
          "execution_count": 9
        }
      ],
      "source": [
        "train.label.value_counts()"
      ]
    },
    {
      "cell_type": "code",
      "execution_count": null,
      "metadata": {
        "id": "cSJCyDSRDgsn"
      },
      "outputs": [],
      "source": [
        "decode_map = {0: \"negative\", 1: \"positive\"}\n",
        "def decode_sentiment(label):\n",
        "    return decode_map[int(label)]"
      ]
    },
    {
      "cell_type": "code",
      "execution_count": null,
      "metadata": {
        "id": "siTV3qL7D7JF",
        "colab": {
          "base_uri": "https://localhost:8080/",
          "height": 517
        },
        "outputId": "b5ba4ab5-2c69-4ac0-8472-e68cc918f522"
      },
      "outputs": [
        {
          "output_type": "execute_result",
          "data": {
            "text/plain": [
              "Text(0.5, 1.0, 'Dataset labels distribuition')"
            ]
          },
          "metadata": {},
          "execution_count": 11
        },
        {
          "output_type": "display_data",
          "data": {
            "text/plain": [
              "<Figure size 1152x576 with 1 Axes>"
            ],
            "image/png": "[encoded data removed]"
          },
          "metadata": {
            "needs_background": "light"
          }
        }
      ],
      "source": [
        "label_cnt = Counter(train.label)\n",
        "\n",
        "plt.figure(figsize=(16,8))\n",
        "plt.bar(label_cnt.keys(), label_cnt.values())\n",
        "plt.title(\"Dataset labels distribuition\")"
      ]
    },
    {
      "cell_type": "code",
      "execution_count": null,
      "metadata": {
        "id": "DxxHR_2SESpz"
      },
      "outputs": [],
      "source": [
        "stop_words = stopwords.words(\"english\")\n",
        "stemmer = SnowballStemmer(\"english\")"
      ]
    },
    {
      "cell_type": "code",
      "execution_count": null,
      "metadata": {
        "id": "dpVedbxTEVvm"
      },
      "outputs": [],
      "source": [
        "def preprocess(text, stem=False):\n",
        "    # Remove link,user and special characters\n",
        "    text = re.sub(TEXT_CLEANING_RE, ' ', str(text).lower()).strip()\n",
        "    tokens = []\n",
        "    for token in text.split():\n",
        "        if token not in stop_words:\n",
        "            if stem:\n",
        "                tokens.append(stemmer.stem(token))\n",
        "            else:\n",
        "                tokens.append(token)\n",
        "    return \" \".join(tokens)"
      ]
    },
    {
      "cell_type": "code",
      "execution_count": null,
      "metadata": {
        "id": "T1tS9LfBEZ-t",
        "colab": {
          "base_uri": "https://localhost:8080/"
        },
        "outputId": "30acf4ca-1976-46d2-ffae-e7c54b3d334f"
      },
      "outputs": [
        {
          "output_type": "stream",
          "name": "stdout",
          "text": [
            "CPU times: user 38.4 s, sys: 69.9 ms, total: 38.5 s\n",
            "Wall time: 44 s\n"
          ]
        }
      ],
      "source": [
        "%%time\n",
        "for df in [train, eval, test]:\n",
        "  df.input = df.input.apply(lambda x: preprocess(x))"
      ]
    },
    {
      "cell_type": "markdown",
      "metadata": {
        "id": "5YQ9z59WEslM"
      },
      "source": [
        "# Configure word2vec"
      ]
    },
    {
      "cell_type": "code",
      "execution_count": null,
      "metadata": {
        "id": "XHK3Fxm8EjLo",
        "colab": {
          "base_uri": "https://localhost:8080/"
        },
        "outputId": "e7cbcf99-ce5b-429b-8ffb-57d9e4af2b88"
      },
      "outputs": [
        {
          "output_type": "stream",
          "name": "stdout",
          "text": [
            "CPU times: user 651 ms, sys: 165 ms, total: 816 ms\n",
            "Wall time: 818 ms\n"
          ]
        }
      ],
      "source": [
        "%%time\n",
        "documents = [_input.split() for _input in train.input] "
      ]
    },
    {
      "cell_type": "code",
      "execution_count": null,
      "metadata": {
        "id": "_YKeMnrPFbC5"
      },
      "outputs": [],
      "source": [
        "w2v_model = gensim.models.word2vec.Word2Vec(size=W2V_SIZE, \n",
        "                                            window=W2V_WINDOW, \n",
        "                                            min_count=W2V_MIN_COUNT, \n",
        "                                            workers=8)"
      ]
    },
    {
      "cell_type": "code",
      "execution_count": null,
      "metadata": {
        "id": "Z1kdJ324Fpvp",
        "colab": {
          "base_uri": "https://localhost:8080/"
        },
        "outputId": "547e7f3f-76ae-4505-fb2c-de567814d7cc"
      },
      "outputs": [
        {
          "output_type": "stream",
          "name": "stderr",
          "text": [
            "2022-06-04 08:37:19,083 : INFO : collecting all words and their counts\n",
            "2022-06-04 08:37:19,088 : INFO : PROGRESS: at sentence #0, processed 0 words, keeping 0 word types\n",
            "2022-06-04 08:37:19,408 : INFO : PROGRESS: at sentence #10000, processed 1248292 words, keeping 52677 word types\n",
            "2022-06-04 08:37:19,742 : INFO : PROGRESS: at sentence #20000, processed 2471622 words, keeping 69494 word types\n",
            "2022-06-04 08:37:20,087 : INFO : PROGRESS: at sentence #30000, processed 3715820 words, keeping 82115 word types\n",
            "2022-06-04 08:37:20,445 : INFO : collected 92189 word types from a corpus of 4952574 raw words and 40000 sentences\n",
            "2022-06-04 08:37:20,448 : INFO : Loading a fresh vocabulary\n",
            "2022-06-04 08:37:20,548 : INFO : effective_min_count=10 retains 25238 unique words (27% of original 92189, drops 66951)\n",
            "2022-06-04 08:37:20,550 : INFO : effective_min_count=10 leaves 4788663 word corpus (96% of original 4952574, drops 163911)\n",
            "2022-06-04 08:37:20,642 : INFO : deleting the raw counts dictionary of 92189 items\n",
            "2022-06-04 08:37:20,647 : INFO : sample=0.001 downsamples 23 most-common words\n",
            "2022-06-04 08:37:20,650 : INFO : downsampling leaves estimated 4480361 word corpus (93.6% of prior 4788663)\n",
            "2022-06-04 08:37:20,763 : INFO : estimated required memory for 25238 words and 300 dimensions: 73190200 bytes\n",
            "2022-06-04 08:37:20,765 : INFO : resetting layer weights\n"
          ]
        }
      ],
      "source": [
        "w2v_model.build_vocab(documents)"
      ]
    },
    {
      "cell_type": "code",
      "execution_count": null,
      "metadata": {
        "id": "HCd74VZzFsAN",
        "colab": {
          "base_uri": "https://localhost:8080/"
        },
        "outputId": "b5e904ff-b128-47dc-86cf-66f693c45d00"
      },
      "outputs": [
        {
          "output_type": "stream",
          "name": "stdout",
          "text": [
            "Vocab size 25238\n"
          ]
        }
      ],
      "source": [
        "words = w2v_model.wv.vocab.keys()\n",
        "vocab_size = len(words)\n",
        "print(\"Vocab size\", vocab_size)"
      ]
    },
    {
      "cell_type": "code",
      "execution_count": null,
      "metadata": {
        "id": "HNAvGrLAF5LB",
        "colab": {
          "base_uri": "https://localhost:8080/"
        },
        "outputId": "e10bb216-f5f8-4628-9528-9189c511af17"
      },
      "outputs": [
        {
          "output_type": "stream",
          "name": "stderr",
          "text": [
            "2022-06-04 08:37:26,080 : INFO : training model with 8 workers on 25238 vocabulary and 300 features, using sg=0 hs=0 sample=0.001 negative=5 window=7\n",
            "2022-06-04 08:37:27,099 : INFO : EPOCH 1 - PROGRESS: at 5.27% examples, 241700 words/s, in_qsize 15, out_qsize 0\n",
            "2022-06-04 08:37:28,181 : INFO : EPOCH 1 - PROGRESS: at 12.94% examples, 279648 words/s, in_qsize 15, out_qsize 0\n",
            "2022-06-04 08:37:29,207 : INFO : EPOCH 1 - PROGRESS: at 20.30% examples, 293829 words/s, in_qsize 15, out_qsize 0\n",
            "2022-06-04 08:37:30,253 : INFO : EPOCH 1 - PROGRESS: at 26.75% examples, 290985 words/s, in_qsize 16, out_qsize 0\n",
            "2022-06-04 08:37:31,325 : INFO : EPOCH 1 - PROGRESS: at 34.57% examples, 296533 words/s, in_qsize 15, out_qsize 0\n",
            "2022-06-04 08:37:32,327 : INFO : EPOCH 1 - PROGRESS: at 41.84% examples, 300566 words/s, in_qsize 15, out_qsize 0\n",
            "2022-06-04 08:37:33,331 : INFO : EPOCH 1 - PROGRESS: at 48.75% examples, 301024 words/s, in_qsize 15, out_qsize 0\n",
            "2022-06-04 08:37:34,350 : INFO : EPOCH 1 - PROGRESS: at 55.97% examples, 302962 words/s, in_qsize 15, out_qsize 0\n",
            "2022-06-04 08:37:35,404 : INFO : EPOCH 1 - PROGRESS: at 62.58% examples, 301426 words/s, in_qsize 14, out_qsize 1\n",
            "2022-06-04 08:37:36,427 : INFO : EPOCH 1 - PROGRESS: at 70.09% examples, 303686 words/s, in_qsize 15, out_qsize 0\n",
            "2022-06-04 08:37:37,463 : INFO : EPOCH 1 - PROGRESS: at 77.00% examples, 303650 words/s, in_qsize 14, out_qsize 1\n",
            "2022-06-04 08:37:38,506 : INFO : EPOCH 1 - PROGRESS: at 84.17% examples, 304119 words/s, in_qsize 13, out_qsize 2\n",
            "2022-06-04 08:37:39,542 : INFO : EPOCH 1 - PROGRESS: at 91.44% examples, 304642 words/s, in_qsize 14, out_qsize 1\n",
            "2022-06-04 08:37:40,517 : INFO : worker thread finished; awaiting finish of 7 more threads\n",
            "2022-06-04 08:37:40,535 : INFO : worker thread finished; awaiting finish of 6 more threads\n",
            "2022-06-04 08:37:40,610 : INFO : EPOCH 1 - PROGRESS: at 99.05% examples, 305665 words/s, in_qsize 5, out_qsize 0\n",
            "2022-06-04 08:37:40,615 : INFO : worker thread finished; awaiting finish of 5 more threads\n",
            "2022-06-04 08:37:40,623 : INFO : worker thread finished; awaiting finish of 4 more threads\n",
            "2022-06-04 08:37:40,628 : INFO : worker thread finished; awaiting finish of 3 more threads\n",
            "2022-06-04 08:37:40,637 : INFO : worker thread finished; awaiting finish of 2 more threads\n",
            "2022-06-04 08:37:40,645 : INFO : worker thread finished; awaiting finish of 1 more threads\n",
            "2022-06-04 08:37:40,648 : INFO : worker thread finished; awaiting finish of 0 more threads\n",
            "2022-06-04 08:37:40,649 : INFO : EPOCH - 1 : training on 4952574 raw words (4480628 effective words) took 14.6s, 307890 effective words/s\n",
            "2022-06-04 08:37:41,678 : INFO : EPOCH 2 - PROGRESS: at 5.71% examples, 257062 words/s, in_qsize 15, out_qsize 0\n",
            "2022-06-04 08:37:42,705 : INFO : EPOCH 2 - PROGRESS: at 12.94% examples, 285787 words/s, in_qsize 16, out_qsize 0\n",
            "2022-06-04 08:37:43,768 : INFO : EPOCH 2 - PROGRESS: at 20.32% examples, 294612 words/s, in_qsize 12, out_qsize 3\n",
            "2022-06-04 08:37:44,839 : INFO : EPOCH 2 - PROGRESS: at 27.74% examples, 300457 words/s, in_qsize 13, out_qsize 2\n",
            "2022-06-04 08:37:45,856 : INFO : EPOCH 2 - PROGRESS: at 33.16% examples, 286536 words/s, in_qsize 15, out_qsize 0\n",
            "2022-06-04 08:37:46,926 : INFO : EPOCH 2 - PROGRESS: at 37.15% examples, 266217 words/s, in_qsize 15, out_qsize 0\n",
            "2022-06-04 08:37:48,025 : INFO : EPOCH 2 - PROGRESS: at 42.45% examples, 258084 words/s, in_qsize 15, out_qsize 0\n",
            "2022-06-04 08:37:49,081 : INFO : EPOCH 2 - PROGRESS: at 47.35% examples, 251269 words/s, in_qsize 15, out_qsize 0\n",
            "2022-06-04 08:37:50,158 : INFO : EPOCH 2 - PROGRESS: at 52.24% examples, 246417 words/s, in_qsize 14, out_qsize 1\n",
            "2022-06-04 08:37:51,289 : INFO : EPOCH 2 - PROGRESS: at 57.13% examples, 240391 words/s, in_qsize 15, out_qsize 0\n",
            "2022-06-04 08:37:52,312 : INFO : EPOCH 2 - PROGRESS: at 62.19% examples, 239345 words/s, in_qsize 15, out_qsize 0\n",
            "2022-06-04 08:37:53,452 : INFO : EPOCH 2 - PROGRESS: at 70.10% examples, 245385 words/s, in_qsize 15, out_qsize 0\n",
            "2022-06-04 08:37:54,489 : INFO : EPOCH 2 - PROGRESS: at 77.00% examples, 249687 words/s, in_qsize 13, out_qsize 2\n",
            "2022-06-04 08:37:55,490 : INFO : EPOCH 2 - PROGRESS: at 84.36% examples, 255167 words/s, in_qsize 13, out_qsize 2\n",
            "2022-06-04 08:37:56,512 : INFO : EPOCH 2 - PROGRESS: at 91.45% examples, 258460 words/s, in_qsize 15, out_qsize 0\n",
            "2022-06-04 08:37:57,425 : INFO : worker thread finished; awaiting finish of 7 more threads\n",
            "2022-06-04 08:37:57,541 : INFO : EPOCH 2 - PROGRESS: at 98.89% examples, 262328 words/s, in_qsize 6, out_qsize 1\n",
            "2022-06-04 08:37:57,555 : INFO : worker thread finished; awaiting finish of 6 more threads\n",
            "2022-06-04 08:37:57,562 : INFO : worker thread finished; awaiting finish of 5 more threads\n",
            "2022-06-04 08:37:57,563 : INFO : worker thread finished; awaiting finish of 4 more threads\n",
            "2022-06-04 08:37:57,564 : INFO : worker thread finished; awaiting finish of 3 more threads\n",
            "2022-06-04 08:37:57,573 : INFO : worker thread finished; awaiting finish of 2 more threads\n",
            "2022-06-04 08:37:57,574 : INFO : worker thread finished; awaiting finish of 1 more threads\n",
            "2022-06-04 08:37:57,587 : INFO : worker thread finished; awaiting finish of 0 more threads\n",
            "2022-06-04 08:37:57,588 : INFO : EPOCH - 2 : training on 4952574 raw words (4480192 effective words) took 16.9s, 264740 effective words/s\n",
            "2022-06-04 08:37:58,602 : INFO : EPOCH 3 - PROGRESS: at 5.89% examples, 268438 words/s, in_qsize 15, out_qsize 0\n",
            "2022-06-04 08:37:59,616 : INFO : EPOCH 3 - PROGRESS: at 13.55% examples, 302001 words/s, in_qsize 15, out_qsize 0\n",
            "2022-06-04 08:38:00,632 : INFO : EPOCH 3 - PROGRESS: at 21.06% examples, 312949 words/s, in_qsize 15, out_qsize 0\n",
            "2022-06-04 08:38:01,647 : INFO : EPOCH 3 - PROGRESS: at 27.36% examples, 305310 words/s, in_qsize 16, out_qsize 3\n",
            "2022-06-04 08:38:02,687 : INFO : EPOCH 3 - PROGRESS: at 34.97% examples, 308095 words/s, in_qsize 12, out_qsize 3\n",
            "2022-06-04 08:38:03,728 : INFO : EPOCH 3 - PROGRESS: at 42.23% examples, 308328 words/s, in_qsize 13, out_qsize 2\n",
            "2022-06-04 08:38:04,734 : INFO : EPOCH 3 - PROGRESS: at 49.48% examples, 310239 words/s, in_qsize 16, out_qsize 1\n",
            "2022-06-04 08:38:05,743 : INFO : EPOCH 3 - PROGRESS: at 57.13% examples, 313546 words/s, in_qsize 15, out_qsize 0\n",
            "2022-06-04 08:38:06,806 : INFO : EPOCH 3 - PROGRESS: at 64.37% examples, 313463 words/s, in_qsize 15, out_qsize 0\n",
            "2022-06-04 08:38:07,836 : INFO : EPOCH 3 - PROGRESS: at 71.89% examples, 314323 words/s, in_qsize 15, out_qsize 0\n",
            "2022-06-04 08:38:08,883 : INFO : EPOCH 3 - PROGRESS: at 79.25% examples, 314592 words/s, in_qsize 15, out_qsize 0\n",
            "2022-06-04 08:38:09,969 : INFO : EPOCH 3 - PROGRESS: at 86.36% examples, 313047 words/s, in_qsize 15, out_qsize 0\n",
            "2022-06-04 08:38:10,984 : INFO : EPOCH 3 - PROGRESS: at 93.07% examples, 311356 words/s, in_qsize 11, out_qsize 4\n",
            "2022-06-04 08:38:11,720 : INFO : worker thread finished; awaiting finish of 7 more threads\n",
            "2022-06-04 08:38:11,730 : INFO : worker thread finished; awaiting finish of 6 more threads\n",
            "2022-06-04 08:38:11,738 : INFO : worker thread finished; awaiting finish of 5 more threads\n",
            "2022-06-04 08:38:11,758 : INFO : worker thread finished; awaiting finish of 4 more threads\n",
            "2022-06-04 08:38:11,759 : INFO : worker thread finished; awaiting finish of 3 more threads\n",
            "2022-06-04 08:38:11,791 : INFO : worker thread finished; awaiting finish of 2 more threads\n",
            "2022-06-04 08:38:11,793 : INFO : worker thread finished; awaiting finish of 1 more threads\n",
            "2022-06-04 08:38:11,818 : INFO : worker thread finished; awaiting finish of 0 more threads\n",
            "2022-06-04 08:38:11,823 : INFO : EPOCH - 3 : training on 4952574 raw words (4480532 effective words) took 14.2s, 314975 effective words/s\n",
            "2022-06-04 08:38:12,852 : INFO : EPOCH 4 - PROGRESS: at 5.88% examples, 263902 words/s, in_qsize 15, out_qsize 0\n",
            "2022-06-04 08:38:13,957 : INFO : EPOCH 4 - PROGRESS: at 13.55% examples, 286834 words/s, in_qsize 12, out_qsize 3\n",
            "2022-06-04 08:38:15,051 : INFO : EPOCH 4 - PROGRESS: at 21.27% examples, 297708 words/s, in_qsize 15, out_qsize 0\n",
            "2022-06-04 08:38:16,107 : INFO : EPOCH 4 - PROGRESS: at 28.55% examples, 301733 words/s, in_qsize 15, out_qsize 0\n",
            "2022-06-04 08:38:17,119 : INFO : EPOCH 4 - PROGRESS: at 36.00% examples, 304975 words/s, in_qsize 15, out_qsize 0\n",
            "2022-06-04 08:38:18,342 : INFO : EPOCH 4 - PROGRESS: at 43.25% examples, 297255 words/s, in_qsize 16, out_qsize 1\n",
            "2022-06-04 08:38:19,370 : INFO : EPOCH 4 - PROGRESS: at 48.36% examples, 286532 words/s, in_qsize 15, out_qsize 0\n",
            "2022-06-04 08:38:20,388 : INFO : EPOCH 4 - PROGRESS: at 53.67% examples, 280770 words/s, in_qsize 15, out_qsize 0\n",
            "2022-06-04 08:38:21,501 : INFO : EPOCH 4 - PROGRESS: at 59.46% examples, 275350 words/s, in_qsize 16, out_qsize 2\n",
            "2022-06-04 08:38:22,512 : INFO : EPOCH 4 - PROGRESS: at 66.64% examples, 279529 words/s, in_qsize 15, out_qsize 0\n",
            "2022-06-04 08:38:23,622 : INFO : EPOCH 4 - PROGRESS: at 74.25% examples, 282142 words/s, in_qsize 16, out_qsize 4\n",
            "2022-06-04 08:38:24,627 : INFO : EPOCH 4 - PROGRESS: at 81.62% examples, 285871 words/s, in_qsize 15, out_qsize 0\n",
            "2022-06-04 08:38:25,686 : INFO : EPOCH 4 - PROGRESS: at 88.95% examples, 287896 words/s, in_qsize 15, out_qsize 0\n",
            "2022-06-04 08:38:26,801 : INFO : EPOCH 4 - PROGRESS: at 96.71% examples, 289467 words/s, in_qsize 15, out_qsize 3\n",
            "2022-06-04 08:38:27,034 : INFO : worker thread finished; awaiting finish of 7 more threads\n",
            "2022-06-04 08:38:27,046 : INFO : worker thread finished; awaiting finish of 6 more threads\n",
            "2022-06-04 08:38:27,076 : INFO : worker thread finished; awaiting finish of 5 more threads\n",
            "2022-06-04 08:38:27,102 : INFO : worker thread finished; awaiting finish of 4 more threads\n",
            "2022-06-04 08:38:27,120 : INFO : worker thread finished; awaiting finish of 3 more threads\n",
            "2022-06-04 08:38:27,130 : INFO : worker thread finished; awaiting finish of 2 more threads\n",
            "2022-06-04 08:38:27,140 : INFO : worker thread finished; awaiting finish of 1 more threads\n",
            "2022-06-04 08:38:27,157 : INFO : worker thread finished; awaiting finish of 0 more threads\n",
            "2022-06-04 08:38:27,158 : INFO : EPOCH - 4 : training on 4952574 raw words (4480479 effective words) took 15.3s, 292335 effective words/s\n",
            "2022-06-04 08:38:28,208 : INFO : EPOCH 5 - PROGRESS: at 5.88% examples, 259109 words/s, in_qsize 15, out_qsize 6\n",
            "2022-06-04 08:38:29,256 : INFO : EPOCH 5 - PROGRESS: at 13.35% examples, 287719 words/s, in_qsize 14, out_qsize 1\n",
            "2022-06-04 08:38:30,268 : INFO : EPOCH 5 - PROGRESS: at 20.71% examples, 300607 words/s, in_qsize 15, out_qsize 0\n",
            "2022-06-04 08:38:31,405 : INFO : EPOCH 5 - PROGRESS: at 27.34% examples, 291804 words/s, in_qsize 13, out_qsize 2\n",
            "2022-06-04 08:38:32,567 : INFO : EPOCH 5 - PROGRESS: at 34.17% examples, 283842 words/s, in_qsize 14, out_qsize 1\n",
            "2022-06-04 08:38:33,576 : INFO : EPOCH 5 - PROGRESS: at 39.60% examples, 276826 words/s, in_qsize 16, out_qsize 4\n",
            "2022-06-04 08:38:34,625 : INFO : EPOCH 5 - PROGRESS: at 46.15% examples, 276398 words/s, in_qsize 16, out_qsize 0\n",
            "2022-06-04 08:38:35,703 : INFO : EPOCH 5 - PROGRESS: at 51.41% examples, 270596 words/s, in_qsize 16, out_qsize 1\n",
            "2022-06-04 08:38:36,738 : INFO : EPOCH 5 - PROGRESS: at 57.73% examples, 269712 words/s, in_qsize 15, out_qsize 1\n",
            "2022-06-04 08:38:37,912 : INFO : EPOCH 5 - PROGRESS: at 62.99% examples, 263573 words/s, in_qsize 15, out_qsize 0\n",
            "2022-06-04 08:38:38,909 : INFO : EPOCH 5 - PROGRESS: at 68.56% examples, 261098 words/s, in_qsize 14, out_qsize 1\n",
            "2022-06-04 08:38:39,925 : INFO : EPOCH 5 - PROGRESS: at 73.30% examples, 257214 words/s, in_qsize 13, out_qsize 2\n",
            "2022-06-04 08:38:40,935 : INFO : EPOCH 5 - PROGRESS: at 79.42% examples, 258521 words/s, in_qsize 15, out_qsize 0\n",
            "2022-06-04 08:38:41,946 : INFO : EPOCH 5 - PROGRESS: at 84.75% examples, 257176 words/s, in_qsize 16, out_qsize 4\n",
            "2022-06-04 08:38:43,003 : INFO : EPOCH 5 - PROGRESS: at 91.46% examples, 258672 words/s, in_qsize 15, out_qsize 0\n",
            "2022-06-04 08:38:44,040 : INFO : EPOCH 5 - PROGRESS: at 97.48% examples, 258682 words/s, in_qsize 13, out_qsize 0\n",
            "2022-06-04 08:38:44,191 : INFO : worker thread finished; awaiting finish of 7 more threads\n",
            "2022-06-04 08:38:44,225 : INFO : worker thread finished; awaiting finish of 6 more threads\n",
            "2022-06-04 08:38:44,263 : INFO : worker thread finished; awaiting finish of 5 more threads\n",
            "2022-06-04 08:38:44,330 : INFO : worker thread finished; awaiting finish of 4 more threads\n",
            "2022-06-04 08:38:44,342 : INFO : worker thread finished; awaiting finish of 3 more threads\n",
            "2022-06-04 08:38:44,354 : INFO : worker thread finished; awaiting finish of 2 more threads\n",
            "2022-06-04 08:38:44,369 : INFO : worker thread finished; awaiting finish of 1 more threads\n",
            "2022-06-04 08:38:44,386 : INFO : worker thread finished; awaiting finish of 0 more threads\n",
            "2022-06-04 08:38:44,389 : INFO : EPOCH - 5 : training on 4952574 raw words (4480377 effective words) took 17.2s, 260173 effective words/s\n",
            "2022-06-04 08:38:45,466 : INFO : EPOCH 6 - PROGRESS: at 4.89% examples, 210862 words/s, in_qsize 16, out_qsize 0\n",
            "2022-06-04 08:38:46,468 : INFO : EPOCH 6 - PROGRESS: at 10.34% examples, 226065 words/s, in_qsize 15, out_qsize 0\n",
            "2022-06-04 08:38:47,544 : INFO : EPOCH 6 - PROGRESS: at 16.20% examples, 232054 words/s, in_qsize 15, out_qsize 1\n",
            "2022-06-04 08:38:48,561 : INFO : EPOCH 6 - PROGRESS: at 21.85% examples, 237781 words/s, in_qsize 15, out_qsize 1\n",
            "2022-06-04 08:38:49,617 : INFO : EPOCH 6 - PROGRESS: at 25.56% examples, 221520 words/s, in_qsize 16, out_qsize 2\n",
            "2022-06-04 08:38:50,623 : INFO : EPOCH 6 - PROGRESS: at 29.61% examples, 214530 words/s, in_qsize 15, out_qsize 0\n",
            "2022-06-04 08:38:51,664 : INFO : EPOCH 6 - PROGRESS: at 32.74% examples, 202311 words/s, in_qsize 14, out_qsize 1\n",
            "2022-06-04 08:38:52,720 : INFO : EPOCH 6 - PROGRESS: at 36.02% examples, 193909 words/s, in_qsize 16, out_qsize 0\n",
            "2022-06-04 08:38:53,784 : INFO : EPOCH 6 - PROGRESS: at 40.84% examples, 194809 words/s, in_qsize 15, out_qsize 0\n",
            "2022-06-04 08:38:54,786 : INFO : EPOCH 6 - PROGRESS: at 46.15% examples, 198514 words/s, in_qsize 15, out_qsize 0\n",
            "2022-06-04 08:38:55,793 : INFO : EPOCH 6 - PROGRESS: at 51.22% examples, 201445 words/s, in_qsize 15, out_qsize 0\n",
            "2022-06-04 08:38:56,954 : INFO : EPOCH 6 - PROGRESS: at 57.55% examples, 205497 words/s, in_qsize 15, out_qsize 1\n",
            "2022-06-04 08:38:57,941 : INFO : EPOCH 6 - PROGRESS: at 62.99% examples, 208535 words/s, in_qsize 15, out_qsize 0\n",
            "2022-06-04 08:38:58,986 : INFO : EPOCH 6 - PROGRESS: at 67.73% examples, 207749 words/s, in_qsize 15, out_qsize 0\n",
            "2022-06-04 08:39:00,189 : INFO : EPOCH 6 - PROGRESS: at 72.50% examples, 205561 words/s, in_qsize 9, out_qsize 6\n",
            "2022-06-04 08:39:01,233 : INFO : EPOCH 6 - PROGRESS: at 79.83% examples, 212510 words/s, in_qsize 14, out_qsize 1\n",
            "2022-06-04 08:39:02,342 : INFO : EPOCH 6 - PROGRESS: at 87.34% examples, 218321 words/s, in_qsize 16, out_qsize 1\n",
            "2022-06-04 08:39:03,343 : INFO : EPOCH 6 - PROGRESS: at 95.11% examples, 224736 words/s, in_qsize 15, out_qsize 0\n",
            "2022-06-04 08:39:03,796 : INFO : worker thread finished; awaiting finish of 7 more threads\n",
            "2022-06-04 08:39:03,870 : INFO : worker thread finished; awaiting finish of 6 more threads\n",
            "2022-06-04 08:39:03,897 : INFO : worker thread finished; awaiting finish of 5 more threads\n",
            "2022-06-04 08:39:03,912 : INFO : worker thread finished; awaiting finish of 4 more threads\n",
            "2022-06-04 08:39:03,924 : INFO : worker thread finished; awaiting finish of 3 more threads\n",
            "2022-06-04 08:39:03,933 : INFO : worker thread finished; awaiting finish of 2 more threads\n",
            "2022-06-04 08:39:03,944 : INFO : worker thread finished; awaiting finish of 1 more threads\n",
            "2022-06-04 08:39:03,949 : INFO : worker thread finished; awaiting finish of 0 more threads\n",
            "2022-06-04 08:39:03,951 : INFO : EPOCH - 6 : training on 4952574 raw words (4479913 effective words) took 19.5s, 229165 effective words/s\n",
            "2022-06-04 08:39:04,980 : INFO : EPOCH 7 - PROGRESS: at 6.10% examples, 273087 words/s, in_qsize 15, out_qsize 0\n",
            "2022-06-04 08:39:06,028 : INFO : EPOCH 7 - PROGRESS: at 13.34% examples, 290396 words/s, in_qsize 11, out_qsize 4\n",
            "2022-06-04 08:39:07,041 : INFO : EPOCH 7 - PROGRESS: at 20.70% examples, 302482 words/s, in_qsize 15, out_qsize 0\n",
            "2022-06-04 08:39:08,042 : INFO : EPOCH 7 - PROGRESS: at 27.95% examples, 309431 words/s, in_qsize 15, out_qsize 0\n",
            "2022-06-04 08:39:09,123 : INFO : EPOCH 7 - PROGRESS: at 35.61% examples, 308921 words/s, in_qsize 15, out_qsize 0\n",
            "2022-06-04 08:39:10,194 : INFO : EPOCH 7 - PROGRESS: at 43.01% examples, 309039 words/s, in_qsize 13, out_qsize 3\n",
            "2022-06-04 08:39:11,231 : INFO : EPOCH 7 - PROGRESS: at 50.66% examples, 311884 words/s, in_qsize 15, out_qsize 0\n",
            "2022-06-04 08:39:12,280 : INFO : EPOCH 7 - PROGRESS: at 58.13% examples, 312380 words/s, in_qsize 16, out_qsize 0\n",
            "2022-06-04 08:39:13,284 : INFO : EPOCH 7 - PROGRESS: at 65.17% examples, 313461 words/s, in_qsize 15, out_qsize 0\n",
            "2022-06-04 08:39:14,425 : INFO : EPOCH 7 - PROGRESS: at 72.86% examples, 311847 words/s, in_qsize 15, out_qsize 0\n",
            "2022-06-04 08:39:15,441 : INFO : EPOCH 7 - PROGRESS: at 80.22% examples, 313130 words/s, in_qsize 15, out_qsize 0\n",
            "2022-06-04 08:39:16,472 : INFO : EPOCH 7 - PROGRESS: at 87.75% examples, 314521 words/s, in_qsize 15, out_qsize 0\n",
            "2022-06-04 08:39:17,521 : INFO : EPOCH 7 - PROGRESS: at 94.53% examples, 312279 words/s, in_qsize 15, out_qsize 1\n",
            "2022-06-04 08:39:18,011 : INFO : worker thread finished; awaiting finish of 7 more threads\n",
            "2022-06-04 08:39:18,039 : INFO : worker thread finished; awaiting finish of 6 more threads\n",
            "2022-06-04 08:39:18,049 : INFO : worker thread finished; awaiting finish of 5 more threads\n",
            "2022-06-04 08:39:18,127 : INFO : worker thread finished; awaiting finish of 4 more threads\n",
            "2022-06-04 08:39:18,131 : INFO : worker thread finished; awaiting finish of 3 more threads\n",
            "2022-06-04 08:39:18,136 : INFO : worker thread finished; awaiting finish of 2 more threads\n",
            "2022-06-04 08:39:18,141 : INFO : worker thread finished; awaiting finish of 1 more threads\n",
            "2022-06-04 08:39:18,147 : INFO : worker thread finished; awaiting finish of 0 more threads\n",
            "2022-06-04 08:39:18,148 : INFO : EPOCH - 7 : training on 4952574 raw words (4480123 effective words) took 14.2s, 315792 effective words/s\n",
            "2022-06-04 08:39:19,171 : INFO : EPOCH 8 - PROGRESS: at 6.10% examples, 275182 words/s, in_qsize 15, out_qsize 0\n",
            "2022-06-04 08:39:20,175 : INFO : EPOCH 8 - PROGRESS: at 13.34% examples, 297923 words/s, in_qsize 14, out_qsize 1\n",
            "2022-06-04 08:39:21,227 : INFO : EPOCH 8 - PROGRESS: at 20.67% examples, 303713 words/s, in_qsize 14, out_qsize 1\n",
            "2022-06-04 08:39:22,254 : INFO : EPOCH 8 - PROGRESS: at 27.93% examples, 308482 words/s, in_qsize 14, out_qsize 1\n",
            "2022-06-04 08:39:23,255 : INFO : EPOCH 8 - PROGRESS: at 35.16% examples, 309481 words/s, in_qsize 16, out_qsize 0\n",
            "2022-06-04 08:39:24,283 : INFO : EPOCH 8 - PROGRESS: at 42.89% examples, 313109 words/s, in_qsize 14, out_qsize 1\n",
            "2022-06-04 08:39:25,310 : INFO : EPOCH 8 - PROGRESS: at 49.91% examples, 312161 words/s, in_qsize 13, out_qsize 2\n",
            "2022-06-04 08:39:26,341 : INFO : EPOCH 8 - PROGRESS: at 57.34% examples, 313391 words/s, in_qsize 15, out_qsize 2\n",
            "2022-06-04 08:39:27,347 : INFO : EPOCH 8 - PROGRESS: at 64.56% examples, 315161 words/s, in_qsize 14, out_qsize 0\n",
            "2022-06-04 08:39:28,417 : INFO : EPOCH 8 - PROGRESS: at 72.09% examples, 314627 words/s, in_qsize 15, out_qsize 0\n",
            "2022-06-04 08:39:29,418 : INFO : EPOCH 8 - PROGRESS: at 79.64% examples, 316928 words/s, in_qsize 15, out_qsize 0\n",
            "2022-06-04 08:39:30,454 : INFO : EPOCH 8 - PROGRESS: at 86.37% examples, 314961 words/s, in_qsize 16, out_qsize 5\n",
            "2022-06-04 08:39:31,530 : INFO : EPOCH 8 - PROGRESS: at 94.32% examples, 315756 words/s, in_qsize 12, out_qsize 3\n",
            "2022-06-04 08:39:32,060 : INFO : worker thread finished; awaiting finish of 7 more threads\n",
            "2022-06-04 08:39:32,069 : INFO : worker thread finished; awaiting finish of 6 more threads\n",
            "2022-06-04 08:39:32,127 : INFO : worker thread finished; awaiting finish of 5 more threads\n",
            "2022-06-04 08:39:32,150 : INFO : worker thread finished; awaiting finish of 4 more threads\n",
            "2022-06-04 08:39:32,176 : INFO : worker thread finished; awaiting finish of 3 more threads\n",
            "2022-06-04 08:39:32,184 : INFO : worker thread finished; awaiting finish of 2 more threads\n",
            "2022-06-04 08:39:32,189 : INFO : worker thread finished; awaiting finish of 1 more threads\n",
            "2022-06-04 08:39:32,195 : INFO : worker thread finished; awaiting finish of 0 more threads\n",
            "2022-06-04 08:39:32,196 : INFO : EPOCH - 8 : training on 4952574 raw words (4480641 effective words) took 14.0s, 319191 effective words/s\n",
            "2022-06-04 08:39:33,264 : INFO : EPOCH 9 - PROGRESS: at 6.97% examples, 299447 words/s, in_qsize 15, out_qsize 0\n",
            "2022-06-04 08:39:34,365 : INFO : EPOCH 9 - PROGRESS: at 13.97% examples, 295110 words/s, in_qsize 16, out_qsize 6\n",
            "2022-06-04 08:39:35,343 : INFO : EPOCH 9 - PROGRESS: at 21.47% examples, 309072 words/s, in_qsize 15, out_qsize 0\n",
            "2022-06-04 08:39:36,379 : INFO : EPOCH 9 - PROGRESS: at 28.75% examples, 311822 words/s, in_qsize 15, out_qsize 0\n",
            "2022-06-04 08:39:37,433 : INFO : EPOCH 9 - PROGRESS: at 36.39% examples, 312367 words/s, in_qsize 13, out_qsize 2\n",
            "2022-06-04 08:39:38,501 : INFO : EPOCH 9 - PROGRESS: at 44.09% examples, 313504 words/s, in_qsize 13, out_qsize 2\n",
            "2022-06-04 08:39:39,510 : INFO : EPOCH 9 - PROGRESS: at 51.85% examples, 318093 words/s, in_qsize 15, out_qsize 0\n",
            "2022-06-04 08:39:40,601 : INFO : EPOCH 9 - PROGRESS: at 58.90% examples, 314095 words/s, in_qsize 13, out_qsize 5\n",
            "2022-06-04 08:39:41,632 : INFO : EPOCH 9 - PROGRESS: at 67.28% examples, 319764 words/s, in_qsize 15, out_qsize 0\n",
            "2022-06-04 08:39:42,640 : INFO : EPOCH 9 - PROGRESS: at 74.83% examples, 321548 words/s, in_qsize 15, out_qsize 0\n",
            "2022-06-04 08:39:43,642 : INFO : EPOCH 9 - PROGRESS: at 81.02% examples, 317680 words/s, in_qsize 15, out_qsize 0\n",
            "2022-06-04 08:39:44,653 : INFO : EPOCH 9 - PROGRESS: at 88.15% examples, 317760 words/s, in_qsize 15, out_qsize 0\n",
            "2022-06-04 08:39:45,669 : INFO : EPOCH 9 - PROGRESS: at 95.09% examples, 316376 words/s, in_qsize 10, out_qsize 5\n",
            "2022-06-04 08:39:46,021 : INFO : worker thread finished; awaiting finish of 7 more threads\n",
            "2022-06-04 08:39:46,126 : INFO : worker thread finished; awaiting finish of 6 more threads\n",
            "2022-06-04 08:39:46,130 : INFO : worker thread finished; awaiting finish of 5 more threads\n",
            "2022-06-04 08:39:46,163 : INFO : worker thread finished; awaiting finish of 4 more threads\n",
            "2022-06-04 08:39:46,172 : INFO : worker thread finished; awaiting finish of 3 more threads\n",
            "2022-06-04 08:39:46,179 : INFO : worker thread finished; awaiting finish of 2 more threads\n",
            "2022-06-04 08:39:46,184 : INFO : worker thread finished; awaiting finish of 1 more threads\n",
            "2022-06-04 08:39:46,190 : INFO : worker thread finished; awaiting finish of 0 more threads\n",
            "2022-06-04 08:39:46,194 : INFO : EPOCH - 9 : training on 4952574 raw words (4479788 effective words) took 14.0s, 320435 effective words/s\n",
            "2022-06-04 08:39:47,225 : INFO : EPOCH 10 - PROGRESS: at 5.71% examples, 257638 words/s, in_qsize 15, out_qsize 2\n",
            "2022-06-04 08:39:48,295 : INFO : EPOCH 10 - PROGRESS: at 13.75% examples, 297392 words/s, in_qsize 16, out_qsize 0\n",
            "2022-06-04 08:39:49,344 : INFO : EPOCH 10 - PROGRESS: at 21.09% examples, 303508 words/s, in_qsize 14, out_qsize 1\n",
            "2022-06-04 08:39:50,397 : INFO : EPOCH 10 - PROGRESS: at 28.55% examples, 308420 words/s, in_qsize 14, out_qsize 1\n",
            "2022-06-04 08:39:51,413 : INFO : EPOCH 10 - PROGRESS: at 36.19% examples, 311863 words/s, in_qsize 15, out_qsize 0\n",
            "2022-06-04 08:39:52,491 : INFO : EPOCH 10 - PROGRESS: at 44.07% examples, 314029 words/s, in_qsize 16, out_qsize 0\n",
            "2022-06-04 08:39:53,498 : INFO : EPOCH 10 - PROGRESS: at 51.22% examples, 315042 words/s, in_qsize 15, out_qsize 0\n",
            "2022-06-04 08:39:54,546 : INFO : EPOCH 10 - PROGRESS: at 58.50% examples, 314100 words/s, in_qsize 15, out_qsize 0\n",
            "2022-06-04 08:39:55,570 : INFO : EPOCH 10 - PROGRESS: at 66.03% examples, 316202 words/s, in_qsize 16, out_qsize 0\n",
            "2022-06-04 08:39:56,578 : INFO : EPOCH 10 - PROGRESS: at 73.22% examples, 316573 words/s, in_qsize 15, out_qsize 0\n",
            "2022-06-04 08:39:57,586 : INFO : EPOCH 10 - PROGRESS: at 80.23% examples, 316105 words/s, in_qsize 16, out_qsize 2\n",
            "2022-06-04 08:39:58,681 : INFO : EPOCH 10 - PROGRESS: at 87.93% examples, 316340 words/s, in_qsize 16, out_qsize 1\n",
            "2022-06-04 08:39:59,802 : INFO : EPOCH 10 - PROGRESS: at 95.67% examples, 315281 words/s, in_qsize 15, out_qsize 1\n",
            "2022-06-04 08:40:00,139 : INFO : worker thread finished; awaiting finish of 7 more threads\n",
            "2022-06-04 08:40:00,150 : INFO : worker thread finished; awaiting finish of 6 more threads\n",
            "2022-06-04 08:40:00,154 : INFO : worker thread finished; awaiting finish of 5 more threads\n",
            "2022-06-04 08:40:00,194 : INFO : worker thread finished; awaiting finish of 4 more threads\n",
            "2022-06-04 08:40:00,224 : INFO : worker thread finished; awaiting finish of 3 more threads\n",
            "2022-06-04 08:40:00,254 : INFO : worker thread finished; awaiting finish of 2 more threads\n",
            "2022-06-04 08:40:00,263 : INFO : worker thread finished; awaiting finish of 1 more threads\n",
            "2022-06-04 08:40:00,266 : INFO : worker thread finished; awaiting finish of 0 more threads\n",
            "2022-06-04 08:40:00,267 : INFO : EPOCH - 10 : training on 4952574 raw words (4480032 effective words) took 14.1s, 318813 effective words/s\n",
            "2022-06-04 08:40:01,303 : INFO : EPOCH 11 - PROGRESS: at 5.88% examples, 263624 words/s, in_qsize 14, out_qsize 1\n",
            "2022-06-04 08:40:02,425 : INFO : EPOCH 11 - PROGRESS: at 13.55% examples, 284276 words/s, in_qsize 12, out_qsize 6\n",
            "2022-06-04 08:40:03,469 : INFO : EPOCH 11 - PROGRESS: at 21.67% examples, 306232 words/s, in_qsize 14, out_qsize 1\n",
            "2022-06-04 08:40:04,529 : INFO : EPOCH 11 - PROGRESS: at 29.16% examples, 309969 words/s, in_qsize 15, out_qsize 0\n",
            "2022-06-04 08:40:05,530 : INFO : EPOCH 11 - PROGRESS: at 36.59% examples, 312377 words/s, in_qsize 16, out_qsize 1\n",
            "2022-06-04 08:40:06,576 : INFO : EPOCH 11 - PROGRESS: at 43.85% examples, 311754 words/s, in_qsize 16, out_qsize 0\n",
            "2022-06-04 08:40:07,649 : INFO : EPOCH 11 - PROGRESS: at 51.64% examples, 313888 words/s, in_qsize 15, out_qsize 0\n",
            "2022-06-04 08:40:08,693 : INFO : EPOCH 11 - PROGRESS: at 59.08% examples, 314325 words/s, in_qsize 15, out_qsize 0\n",
            "2022-06-04 08:40:09,700 : INFO : EPOCH 11 - PROGRESS: at 66.25% examples, 315026 words/s, in_qsize 14, out_qsize 1\n",
            "2022-06-04 08:40:10,743 : INFO : EPOCH 11 - PROGRESS: at 73.45% examples, 314499 words/s, in_qsize 15, out_qsize 0\n",
            "2022-06-04 08:40:11,757 : INFO : EPOCH 11 - PROGRESS: at 80.63% examples, 314841 words/s, in_qsize 16, out_qsize 3\n",
            "2022-06-04 08:40:12,762 : INFO : EPOCH 11 - PROGRESS: at 87.55% examples, 314573 words/s, in_qsize 16, out_qsize 3\n",
            "2022-06-04 08:40:13,783 : INFO : EPOCH 11 - PROGRESS: at 95.29% examples, 315989 words/s, in_qsize 14, out_qsize 1\n",
            "2022-06-04 08:40:14,209 : INFO : worker thread finished; awaiting finish of 7 more threads\n",
            "2022-06-04 08:40:14,224 : INFO : worker thread finished; awaiting finish of 6 more threads\n",
            "2022-06-04 08:40:14,230 : INFO : worker thread finished; awaiting finish of 5 more threads\n",
            "2022-06-04 08:40:14,260 : INFO : worker thread finished; awaiting finish of 4 more threads\n",
            "2022-06-04 08:40:14,328 : INFO : worker thread finished; awaiting finish of 3 more threads\n",
            "2022-06-04 08:40:14,335 : INFO : worker thread finished; awaiting finish of 2 more threads\n",
            "2022-06-04 08:40:14,343 : INFO : worker thread finished; awaiting finish of 1 more threads\n",
            "2022-06-04 08:40:14,350 : INFO : worker thread finished; awaiting finish of 0 more threads\n",
            "2022-06-04 08:40:14,352 : INFO : EPOCH - 11 : training on 4952574 raw words (4480213 effective words) took 14.1s, 318431 effective words/s\n",
            "2022-06-04 08:40:15,395 : INFO : EPOCH 12 - PROGRESS: at 6.33% examples, 278503 words/s, in_qsize 15, out_qsize 0\n",
            "2022-06-04 08:40:16,459 : INFO : EPOCH 12 - PROGRESS: at 13.75% examples, 295220 words/s, in_qsize 15, out_qsize 0\n",
            "2022-06-04 08:40:17,505 : INFO : EPOCH 12 - PROGRESS: at 21.08% examples, 302263 words/s, in_qsize 15, out_qsize 0\n",
            "2022-06-04 08:40:18,531 : INFO : EPOCH 12 - PROGRESS: at 28.14% examples, 305529 words/s, in_qsize 15, out_qsize 1\n",
            "2022-06-04 08:40:19,561 : INFO : EPOCH 12 - PROGRESS: at 35.80% examples, 308640 words/s, in_qsize 14, out_qsize 1\n",
            "2022-06-04 08:40:20,575 : INFO : EPOCH 12 - PROGRESS: at 43.19% examples, 311650 words/s, in_qsize 14, out_qsize 1\n",
            "2022-06-04 08:40:21,604 : INFO : EPOCH 12 - PROGRESS: at 50.65% examples, 313250 words/s, in_qsize 13, out_qsize 3\n",
            "2022-06-04 08:40:22,678 : INFO : EPOCH 12 - PROGRESS: at 58.13% examples, 312625 words/s, in_qsize 12, out_qsize 3\n",
            "2022-06-04 08:40:23,690 : INFO : EPOCH 12 - PROGRESS: at 64.97% examples, 312434 words/s, in_qsize 15, out_qsize 4\n",
            "2022-06-04 08:40:24,717 : INFO : EPOCH 12 - PROGRESS: at 72.30% examples, 312638 words/s, in_qsize 12, out_qsize 3\n",
            "2022-06-04 08:40:25,757 : INFO : EPOCH 12 - PROGRESS: at 79.64% examples, 313226 words/s, in_qsize 14, out_qsize 1\n",
            "2022-06-04 08:40:26,810 : INFO : EPOCH 12 - PROGRESS: at 87.33% examples, 314769 words/s, in_qsize 15, out_qsize 0\n",
            "2022-06-04 08:40:27,919 : INFO : EPOCH 12 - PROGRESS: at 95.09% examples, 314102 words/s, in_qsize 11, out_qsize 4\n",
            "2022-06-04 08:40:28,387 : INFO : worker thread finished; awaiting finish of 7 more threads\n",
            "2022-06-04 08:40:28,395 : INFO : worker thread finished; awaiting finish of 6 more threads\n",
            "2022-06-04 08:40:28,425 : INFO : worker thread finished; awaiting finish of 5 more threads\n",
            "2022-06-04 08:40:28,435 : INFO : worker thread finished; awaiting finish of 4 more threads\n",
            "2022-06-04 08:40:28,438 : INFO : worker thread finished; awaiting finish of 3 more threads\n",
            "2022-06-04 08:40:28,441 : INFO : worker thread finished; awaiting finish of 2 more threads\n",
            "2022-06-04 08:40:28,448 : INFO : worker thread finished; awaiting finish of 1 more threads\n",
            "2022-06-04 08:40:28,461 : INFO : worker thread finished; awaiting finish of 0 more threads\n",
            "2022-06-04 08:40:28,463 : INFO : EPOCH - 12 : training on 4952574 raw words (4480907 effective words) took 14.1s, 317818 effective words/s\n",
            "2022-06-04 08:40:29,519 : INFO : EPOCH 13 - PROGRESS: at 6.97% examples, 300115 words/s, in_qsize 15, out_qsize 0\n",
            "2022-06-04 08:40:30,696 : INFO : EPOCH 13 - PROGRESS: at 14.73% examples, 298334 words/s, in_qsize 15, out_qsize 0\n",
            "2022-06-04 08:40:31,721 : INFO : EPOCH 13 - PROGRESS: at 22.04% examples, 305876 words/s, in_qsize 15, out_qsize 1\n",
            "2022-06-04 08:40:32,789 : INFO : EPOCH 13 - PROGRESS: at 29.77% examples, 311216 words/s, in_qsize 14, out_qsize 1\n",
            "2022-06-04 08:40:33,810 : INFO : EPOCH 13 - PROGRESS: at 37.36% examples, 313825 words/s, in_qsize 15, out_qsize 0\n",
            "2022-06-04 08:40:34,932 : INFO : EPOCH 13 - PROGRESS: at 45.49% examples, 314875 words/s, in_qsize 16, out_qsize 0\n",
            "2022-06-04 08:40:35,939 : INFO : EPOCH 13 - PROGRESS: at 52.87% examples, 316877 words/s, in_qsize 15, out_qsize 0\n",
            "2022-06-04 08:40:37,039 : INFO : EPOCH 13 - PROGRESS: at 60.61% examples, 316996 words/s, in_qsize 13, out_qsize 2\n",
            "2022-06-04 08:40:38,079 : INFO : EPOCH 13 - PROGRESS: at 68.14% examples, 317220 words/s, in_qsize 13, out_qsize 2\n",
            "2022-06-04 08:40:39,093 : INFO : EPOCH 13 - PROGRESS: at 75.40% examples, 318177 words/s, in_qsize 16, out_qsize 0\n",
            "2022-06-04 08:40:40,112 : INFO : EPOCH 13 - PROGRESS: at 82.81% examples, 318852 words/s, in_qsize 15, out_qsize 0\n",
            "2022-06-04 08:40:41,143 : INFO : EPOCH 13 - PROGRESS: at 90.64% examples, 320427 words/s, in_qsize 15, out_qsize 0\n",
            "2022-06-04 08:40:42,171 : INFO : EPOCH 13 - PROGRESS: at 97.86% examples, 319905 words/s, in_qsize 11, out_qsize 0\n",
            "2022-06-04 08:40:42,308 : INFO : worker thread finished; awaiting finish of 7 more threads\n",
            "2022-06-04 08:40:42,321 : INFO : worker thread finished; awaiting finish of 6 more threads\n",
            "2022-06-04 08:40:42,347 : INFO : worker thread finished; awaiting finish of 5 more threads\n",
            "2022-06-04 08:40:42,351 : INFO : worker thread finished; awaiting finish of 4 more threads\n",
            "2022-06-04 08:40:42,376 : INFO : worker thread finished; awaiting finish of 3 more threads\n",
            "2022-06-04 08:40:42,391 : INFO : worker thread finished; awaiting finish of 2 more threads\n",
            "2022-06-04 08:40:42,398 : INFO : worker thread finished; awaiting finish of 1 more threads\n",
            "2022-06-04 08:40:42,419 : INFO : worker thread finished; awaiting finish of 0 more threads\n",
            "2022-06-04 08:40:42,421 : INFO : EPOCH - 13 : training on 4952574 raw words (4480064 effective words) took 13.9s, 321192 effective words/s\n",
            "2022-06-04 08:40:43,445 : INFO : EPOCH 14 - PROGRESS: at 5.89% examples, 266140 words/s, in_qsize 15, out_qsize 0\n",
            "2022-06-04 08:40:44,511 : INFO : EPOCH 14 - PROGRESS: at 13.55% examples, 293361 words/s, in_qsize 14, out_qsize 5\n",
            "2022-06-04 08:40:45,570 : INFO : EPOCH 14 - PROGRESS: at 21.06% examples, 302680 words/s, in_qsize 14, out_qsize 1\n",
            "2022-06-04 08:40:46,629 : INFO : EPOCH 14 - PROGRESS: at 28.57% examples, 307357 words/s, in_qsize 14, out_qsize 2\n",
            "2022-06-04 08:40:47,673 : INFO : EPOCH 14 - PROGRESS: at 36.38% examples, 311153 words/s, in_qsize 15, out_qsize 0\n",
            "2022-06-04 08:40:48,699 : INFO : EPOCH 14 - PROGRESS: at 43.85% examples, 313102 words/s, in_qsize 15, out_qsize 0\n",
            "2022-06-04 08:40:49,763 : INFO : EPOCH 14 - PROGRESS: at 51.44% examples, 314207 words/s, in_qsize 15, out_qsize 0\n",
            "2022-06-04 08:40:50,774 : INFO : EPOCH 14 - PROGRESS: at 58.73% examples, 314787 words/s, in_qsize 15, out_qsize 0\n",
            "2022-06-04 08:40:51,807 : INFO : EPOCH 14 - PROGRESS: at 66.22% examples, 316517 words/s, in_qsize 16, out_qsize 0\n",
            "2022-06-04 08:40:52,928 : INFO : EPOCH 14 - PROGRESS: at 74.08% examples, 316061 words/s, in_qsize 15, out_qsize 0\n",
            "2022-06-04 08:40:54,014 : INFO : EPOCH 14 - PROGRESS: at 82.03% examples, 317342 words/s, in_qsize 15, out_qsize 0\n",
            "2022-06-04 08:40:55,039 : INFO : EPOCH 14 - PROGRESS: at 88.74% examples, 315682 words/s, in_qsize 16, out_qsize 2\n",
            "2022-06-04 08:40:56,054 : INFO : EPOCH 14 - PROGRESS: at 96.50% examples, 317148 words/s, in_qsize 14, out_qsize 2\n",
            "2022-06-04 08:40:56,343 : INFO : worker thread finished; awaiting finish of 7 more threads\n",
            "2022-06-04 08:40:56,372 : INFO : worker thread finished; awaiting finish of 6 more threads\n",
            "2022-06-04 08:40:56,385 : INFO : worker thread finished; awaiting finish of 5 more threads\n",
            "2022-06-04 08:40:56,412 : INFO : worker thread finished; awaiting finish of 4 more threads\n",
            "2022-06-04 08:40:56,450 : INFO : worker thread finished; awaiting finish of 3 more threads\n",
            "2022-06-04 08:40:56,467 : INFO : worker thread finished; awaiting finish of 2 more threads\n",
            "2022-06-04 08:40:56,476 : INFO : worker thread finished; awaiting finish of 1 more threads\n",
            "2022-06-04 08:40:56,477 : INFO : worker thread finished; awaiting finish of 0 more threads\n",
            "2022-06-04 08:40:56,479 : INFO : EPOCH - 14 : training on 4952574 raw words (4480381 effective words) took 14.0s, 318974 effective words/s\n",
            "2022-06-04 08:40:57,529 : INFO : EPOCH 15 - PROGRESS: at 6.33% examples, 276703 words/s, in_qsize 14, out_qsize 1\n",
            "2022-06-04 08:40:58,557 : INFO : EPOCH 15 - PROGRESS: at 13.55% examples, 295099 words/s, in_qsize 15, out_qsize 0\n",
            "2022-06-04 08:40:59,577 : INFO : EPOCH 15 - PROGRESS: at 20.49% examples, 298949 words/s, in_qsize 14, out_qsize 1\n",
            "2022-06-04 08:41:00,603 : INFO : EPOCH 15 - PROGRESS: at 28.34% examples, 311959 words/s, in_qsize 12, out_qsize 3\n",
            "2022-06-04 08:41:01,671 : INFO : EPOCH 15 - PROGRESS: at 36.00% examples, 311300 words/s, in_qsize 14, out_qsize 1\n",
            "2022-06-04 08:41:02,686 : INFO : EPOCH 15 - PROGRESS: at 43.25% examples, 312382 words/s, in_qsize 15, out_qsize 0\n",
            "2022-06-04 08:41:03,696 : INFO : EPOCH 15 - PROGRESS: at 50.85% examples, 315965 words/s, in_qsize 15, out_qsize 0\n",
            "2022-06-04 08:41:04,792 : INFO : EPOCH 15 - PROGRESS: at 58.13% examples, 313054 words/s, in_qsize 12, out_qsize 3\n",
            "2022-06-04 08:41:05,823 : INFO : EPOCH 15 - PROGRESS: at 66.42% examples, 318902 words/s, in_qsize 15, out_qsize 0\n",
            "2022-06-04 08:41:06,826 : INFO : EPOCH 15 - PROGRESS: at 73.11% examples, 316596 words/s, in_qsize 14, out_qsize 0\n",
            "2022-06-04 08:41:07,889 : INFO : EPOCH 15 - PROGRESS: at 79.61% examples, 313011 words/s, in_qsize 14, out_qsize 6\n",
            "2022-06-04 08:41:08,899 : INFO : EPOCH 15 - PROGRESS: at 87.33% examples, 315683 words/s, in_qsize 15, out_qsize 0\n",
            "2022-06-04 08:41:09,948 : INFO : EPOCH 15 - PROGRESS: at 94.89% examples, 315685 words/s, in_qsize 15, out_qsize 0\n",
            "2022-06-04 08:41:10,453 : INFO : worker thread finished; awaiting finish of 7 more threads\n",
            "2022-06-04 08:41:10,457 : INFO : worker thread finished; awaiting finish of 6 more threads\n",
            "2022-06-04 08:41:10,464 : INFO : worker thread finished; awaiting finish of 5 more threads\n",
            "2022-06-04 08:41:10,467 : INFO : worker thread finished; awaiting finish of 4 more threads\n",
            "2022-06-04 08:41:10,489 : INFO : worker thread finished; awaiting finish of 3 more threads\n",
            "2022-06-04 08:41:10,524 : INFO : worker thread finished; awaiting finish of 2 more threads\n",
            "2022-06-04 08:41:10,543 : INFO : worker thread finished; awaiting finish of 1 more threads\n",
            "2022-06-04 08:41:10,548 : INFO : worker thread finished; awaiting finish of 0 more threads\n",
            "2022-06-04 08:41:10,552 : INFO : EPOCH - 15 : training on 4952574 raw words (4479870 effective words) took 14.1s, 318618 effective words/s\n",
            "2022-06-04 08:41:11,616 : INFO : EPOCH 16 - PROGRESS: at 6.10% examples, 266481 words/s, in_qsize 16, out_qsize 1\n",
            "2022-06-04 08:41:12,631 : INFO : EPOCH 16 - PROGRESS: at 13.97% examples, 304900 words/s, in_qsize 15, out_qsize 0\n",
            "2022-06-04 08:41:13,641 : INFO : EPOCH 16 - PROGRESS: at 21.27% examples, 312383 words/s, in_qsize 15, out_qsize 0\n",
            "2022-06-04 08:41:14,692 : INFO : EPOCH 16 - PROGRESS: at 27.73% examples, 304458 words/s, in_qsize 14, out_qsize 1\n",
            "2022-06-04 08:41:15,699 : INFO : EPOCH 16 - PROGRESS: at 35.37% examples, 309372 words/s, in_qsize 15, out_qsize 0\n",
            "2022-06-04 08:41:16,699 : INFO : EPOCH 16 - PROGRESS: at 42.83% examples, 312969 words/s, in_qsize 16, out_qsize 2\n",
            "2022-06-04 08:41:17,739 : INFO : EPOCH 16 - PROGRESS: at 49.91% examples, 311415 words/s, in_qsize 14, out_qsize 1\n",
            "2022-06-04 08:41:18,819 : INFO : EPOCH 16 - PROGRESS: at 57.55% examples, 311894 words/s, in_qsize 14, out_qsize 1\n",
            "2022-06-04 08:41:19,823 : INFO : EPOCH 16 - PROGRESS: at 65.17% examples, 315916 words/s, in_qsize 15, out_qsize 0\n",
            "2022-06-04 08:41:20,829 : INFO : EPOCH 16 - PROGRESS: at 71.51% examples, 312025 words/s, in_qsize 15, out_qsize 4\n",
            "2022-06-04 08:41:21,847 : INFO : EPOCH 16 - PROGRESS: at 79.03% examples, 314087 words/s, in_qsize 15, out_qsize 1\n",
            "2022-06-04 08:41:22,858 : INFO : EPOCH 16 - PROGRESS: at 86.76% examples, 316693 words/s, in_qsize 15, out_qsize 0\n",
            "2022-06-04 08:41:23,893 : INFO : EPOCH 16 - PROGRESS: at 93.28% examples, 313581 words/s, in_qsize 13, out_qsize 2\n",
            "2022-06-04 08:41:24,520 : INFO : worker thread finished; awaiting finish of 7 more threads\n",
            "2022-06-04 08:41:24,557 : INFO : worker thread finished; awaiting finish of 6 more threads\n",
            "2022-06-04 08:41:24,572 : INFO : worker thread finished; awaiting finish of 5 more threads\n",
            "2022-06-04 08:41:24,611 : INFO : worker thread finished; awaiting finish of 4 more threads\n",
            "2022-06-04 08:41:24,642 : INFO : worker thread finished; awaiting finish of 3 more threads\n",
            "2022-06-04 08:41:24,648 : INFO : worker thread finished; awaiting finish of 2 more threads\n",
            "2022-06-04 08:41:24,656 : INFO : worker thread finished; awaiting finish of 1 more threads\n",
            "2022-06-04 08:41:24,670 : INFO : worker thread finished; awaiting finish of 0 more threads\n",
            "2022-06-04 08:41:24,672 : INFO : EPOCH - 16 : training on 4952574 raw words (4480730 effective words) took 14.1s, 317775 effective words/s\n",
            "2022-06-04 08:41:25,686 : INFO : EPOCH 17 - PROGRESS: at 6.11% examples, 277379 words/s, in_qsize 15, out_qsize 0\n",
            "2022-06-04 08:41:26,696 : INFO : EPOCH 17 - PROGRESS: at 13.34% examples, 298349 words/s, in_qsize 15, out_qsize 0\n",
            "2022-06-04 08:41:27,775 : INFO : EPOCH 17 - PROGRESS: at 21.27% examples, 309894 words/s, in_qsize 15, out_qsize 0\n",
            "2022-06-04 08:41:28,779 : INFO : EPOCH 17 - PROGRESS: at 28.77% examples, 317084 words/s, in_qsize 15, out_qsize 0\n",
            "2022-06-04 08:41:29,825 : INFO : EPOCH 17 - PROGRESS: at 36.19% examples, 315319 words/s, in_qsize 16, out_qsize 1\n",
            "2022-06-04 08:41:30,829 : INFO : EPOCH 17 - PROGRESS: at 43.63% examples, 317757 words/s, in_qsize 15, out_qsize 0\n",
            "2022-06-04 08:41:31,874 : INFO : EPOCH 17 - PROGRESS: at 51.02% examples, 317802 words/s, in_qsize 15, out_qsize 0\n",
            "2022-06-04 08:41:32,954 : INFO : EPOCH 17 - PROGRESS: at 58.71% examples, 317473 words/s, in_qsize 14, out_qsize 1\n",
            "2022-06-04 08:41:34,030 : INFO : EPOCH 17 - PROGRESS: at 66.22% examples, 317435 words/s, in_qsize 14, out_qsize 1\n",
            "2022-06-04 08:41:35,065 : INFO : EPOCH 17 - PROGRESS: at 73.66% examples, 318442 words/s, in_qsize 16, out_qsize 0\n",
            "2022-06-04 08:41:36,053 : INFO : EPOCH 17 - PROGRESS: at 80.82% examples, 318522 words/s, in_qsize 15, out_qsize 0\n",
            "2022-06-04 08:41:37,073 : INFO : EPOCH 17 - PROGRESS: at 88.32% examples, 319714 words/s, in_qsize 15, out_qsize 1\n",
            "2022-06-04 08:41:38,074 : INFO : EPOCH 17 - PROGRESS: at 95.28% examples, 318529 words/s, in_qsize 12, out_qsize 3\n",
            "2022-06-04 08:41:38,520 : INFO : worker thread finished; awaiting finish of 7 more threads\n",
            "2022-06-04 08:41:38,528 : INFO : worker thread finished; awaiting finish of 6 more threads\n",
            "2022-06-04 08:41:38,546 : INFO : worker thread finished; awaiting finish of 5 more threads\n",
            "2022-06-04 08:41:38,551 : INFO : worker thread finished; awaiting finish of 4 more threads\n",
            "2022-06-04 08:41:38,615 : INFO : worker thread finished; awaiting finish of 3 more threads\n",
            "2022-06-04 08:41:38,626 : INFO : worker thread finished; awaiting finish of 2 more threads\n",
            "2022-06-04 08:41:38,629 : INFO : worker thread finished; awaiting finish of 1 more threads\n",
            "2022-06-04 08:41:38,633 : INFO : worker thread finished; awaiting finish of 0 more threads\n",
            "2022-06-04 08:41:38,639 : INFO : EPOCH - 17 : training on 4952574 raw words (4479799 effective words) took 14.0s, 320987 effective words/s\n",
            "2022-06-04 08:41:39,734 : INFO : EPOCH 18 - PROGRESS: at 6.76% examples, 283324 words/s, in_qsize 15, out_qsize 0\n",
            "2022-06-04 08:41:40,786 : INFO : EPOCH 18 - PROGRESS: at 13.96% examples, 294731 words/s, in_qsize 13, out_qsize 3\n",
            "2022-06-04 08:41:41,837 : INFO : EPOCH 18 - PROGRESS: at 21.45% examples, 304587 words/s, in_qsize 16, out_qsize 3\n",
            "2022-06-04 08:41:42,850 : INFO : EPOCH 18 - PROGRESS: at 29.16% examples, 314030 words/s, in_qsize 15, out_qsize 0\n",
            "2022-06-04 08:41:43,852 : INFO : EPOCH 18 - PROGRESS: at 36.19% examples, 312140 words/s, in_qsize 12, out_qsize 3\n",
            "2022-06-04 08:41:44,950 : INFO : EPOCH 18 - PROGRESS: at 43.85% examples, 311808 words/s, in_qsize 15, out_qsize 0\n",
            "2022-06-04 08:41:45,962 : INFO : EPOCH 18 - PROGRESS: at 51.04% examples, 312888 words/s, in_qsize 15, out_qsize 0\n",
            "2022-06-04 08:41:46,998 : INFO : EPOCH 18 - PROGRESS: at 58.33% examples, 312660 words/s, in_qsize 15, out_qsize 0\n",
            "2022-06-04 08:41:48,040 : INFO : EPOCH 18 - PROGRESS: at 65.57% examples, 313344 words/s, in_qsize 12, out_qsize 3\n",
            "2022-06-04 08:41:49,050 : INFO : EPOCH 18 - PROGRESS: at 73.07% examples, 314834 words/s, in_qsize 15, out_qsize 0\n",
            "2022-06-04 08:41:50,066 : INFO : EPOCH 18 - PROGRESS: at 80.25% examples, 315097 words/s, in_qsize 16, out_qsize 1\n",
            "2022-06-04 08:41:51,139 : INFO : EPOCH 18 - PROGRESS: at 87.75% examples, 315242 words/s, in_qsize 14, out_qsize 1\n",
            "2022-06-04 08:41:52,157 : INFO : EPOCH 18 - PROGRESS: at 95.48% examples, 316664 words/s, in_qsize 15, out_qsize 1\n",
            "2022-06-04 08:41:52,529 : INFO : worker thread finished; awaiting finish of 7 more threads\n",
            "2022-06-04 08:41:52,602 : INFO : worker thread finished; awaiting finish of 6 more threads\n",
            "2022-06-04 08:41:52,627 : INFO : worker thread finished; awaiting finish of 5 more threads\n",
            "2022-06-04 08:41:52,658 : INFO : worker thread finished; awaiting finish of 4 more threads\n",
            "2022-06-04 08:41:52,666 : INFO : worker thread finished; awaiting finish of 3 more threads\n",
            "2022-06-04 08:41:52,680 : INFO : worker thread finished; awaiting finish of 2 more threads\n",
            "2022-06-04 08:41:52,683 : INFO : worker thread finished; awaiting finish of 1 more threads\n",
            "2022-06-04 08:41:52,688 : INFO : worker thread finished; awaiting finish of 0 more threads\n",
            "2022-06-04 08:41:52,692 : INFO : EPOCH - 18 : training on 4952574 raw words (4480433 effective words) took 14.0s, 319224 effective words/s\n",
            "2022-06-04 08:41:53,733 : INFO : EPOCH 19 - PROGRESS: at 6.76% examples, 297366 words/s, in_qsize 15, out_qsize 0\n",
            "2022-06-04 08:41:54,820 : INFO : EPOCH 19 - PROGRESS: at 14.17% examples, 301033 words/s, in_qsize 15, out_qsize 0\n",
            "2022-06-04 08:41:55,892 : INFO : EPOCH 19 - PROGRESS: at 21.65% examples, 306287 words/s, in_qsize 15, out_qsize 0\n",
            "2022-06-04 08:41:56,908 : INFO : EPOCH 19 - PROGRESS: at 29.16% examples, 313276 words/s, in_qsize 14, out_qsize 1\n",
            "2022-06-04 08:41:57,909 : INFO : EPOCH 19 - PROGRESS: at 36.94% examples, 318540 words/s, in_qsize 15, out_qsize 0\n",
            "2022-06-04 08:41:58,921 : INFO : EPOCH 19 - PROGRESS: at 43.63% examples, 314196 words/s, in_qsize 15, out_qsize 0\n",
            "2022-06-04 08:41:59,951 : INFO : EPOCH 19 - PROGRESS: at 51.43% examples, 317875 words/s, in_qsize 16, out_qsize 1\n",
            "2022-06-04 08:42:00,955 : INFO : EPOCH 19 - PROGRESS: at 58.71% examples, 318279 words/s, in_qsize 15, out_qsize 0\n",
            "2022-06-04 08:42:01,988 : INFO : EPOCH 19 - PROGRESS: at 65.56% examples, 316700 words/s, in_qsize 13, out_qsize 2\n",
            "2022-06-04 08:42:03,038 : INFO : EPOCH 19 - PROGRESS: at 73.11% examples, 316647 words/s, in_qsize 15, out_qsize 0\n",
            "2022-06-04 08:42:04,072 : INFO : EPOCH 19 - PROGRESS: at 80.42% examples, 317042 words/s, in_qsize 16, out_qsize 3\n",
            "2022-06-04 08:42:05,222 : INFO : EPOCH 19 - PROGRESS: at 88.17% examples, 316278 words/s, in_qsize 16, out_qsize 6\n",
            "2022-06-04 08:42:06,229 : INFO : EPOCH 19 - PROGRESS: at 95.88% examples, 317434 words/s, in_qsize 15, out_qsize 0\n",
            "2022-06-04 08:42:06,616 : INFO : worker thread finished; awaiting finish of 7 more threads\n",
            "2022-06-04 08:42:06,621 : INFO : worker thread finished; awaiting finish of 6 more threads\n",
            "2022-06-04 08:42:06,670 : INFO : worker thread finished; awaiting finish of 5 more threads\n",
            "2022-06-04 08:42:06,686 : INFO : worker thread finished; awaiting finish of 4 more threads\n",
            "2022-06-04 08:42:06,695 : INFO : worker thread finished; awaiting finish of 3 more threads\n",
            "2022-06-04 08:42:06,700 : INFO : worker thread finished; awaiting finish of 2 more threads\n",
            "2022-06-04 08:42:06,714 : INFO : worker thread finished; awaiting finish of 1 more threads\n",
            "2022-06-04 08:42:06,722 : INFO : worker thread finished; awaiting finish of 0 more threads\n",
            "2022-06-04 08:42:06,723 : INFO : EPOCH - 19 : training on 4952574 raw words (4480017 effective words) took 14.0s, 319598 effective words/s\n",
            "2022-06-04 08:42:07,836 : INFO : EPOCH 20 - PROGRESS: at 6.09% examples, 259986 words/s, in_qsize 15, out_qsize 3\n",
            "2022-06-04 08:42:08,883 : INFO : EPOCH 20 - PROGRESS: at 13.97% examples, 292054 words/s, in_qsize 15, out_qsize 1\n",
            "2022-06-04 08:42:09,991 : INFO : EPOCH 20 - PROGRESS: at 21.45% examples, 297029 words/s, in_qsize 14, out_qsize 1\n",
            "2022-06-04 08:42:10,991 : INFO : EPOCH 20 - PROGRESS: at 28.15% examples, 298776 words/s, in_qsize 16, out_qsize 6\n",
            "2022-06-04 08:42:12,040 : INFO : EPOCH 20 - PROGRESS: at 36.59% examples, 309073 words/s, in_qsize 15, out_qsize 0\n",
            "2022-06-04 08:42:13,040 : INFO : EPOCH 20 - PROGRESS: at 43.85% examples, 311199 words/s, in_qsize 15, out_qsize 0\n",
            "2022-06-04 08:42:14,111 : INFO : EPOCH 20 - PROGRESS: at 51.04% examples, 311239 words/s, in_qsize 15, out_qsize 1\n",
            "2022-06-04 08:42:15,085 : INFO : EPOCH 20 - PROGRESS: at 58.13% examples, 311204 words/s, in_qsize 13, out_qsize 2\n",
            "2022-06-04 08:42:16,128 : INFO : EPOCH 20 - PROGRESS: at 66.03% examples, 314867 words/s, in_qsize 15, out_qsize 0\n",
            "2022-06-04 08:42:17,168 : INFO : EPOCH 20 - PROGRESS: at 73.30% examples, 314447 words/s, in_qsize 15, out_qsize 0\n",
            "2022-06-04 08:42:18,179 : INFO : EPOCH 20 - PROGRESS: at 79.85% examples, 312526 words/s, in_qsize 13, out_qsize 2\n",
            "2022-06-04 08:42:19,207 : INFO : EPOCH 20 - PROGRESS: at 87.55% examples, 314758 words/s, in_qsize 15, out_qsize 0\n",
            "2022-06-04 08:42:20,224 : INFO : EPOCH 20 - PROGRESS: at 94.11% examples, 312277 words/s, in_qsize 15, out_qsize 0\n",
            "2022-06-04 08:42:20,799 : INFO : worker thread finished; awaiting finish of 7 more threads\n",
            "2022-06-04 08:42:20,807 : INFO : worker thread finished; awaiting finish of 6 more threads\n",
            "2022-06-04 08:42:20,809 : INFO : worker thread finished; awaiting finish of 5 more threads\n",
            "2022-06-04 08:42:20,907 : INFO : worker thread finished; awaiting finish of 4 more threads\n",
            "2022-06-04 08:42:20,926 : INFO : worker thread finished; awaiting finish of 3 more threads\n",
            "2022-06-04 08:42:20,941 : INFO : worker thread finished; awaiting finish of 2 more threads\n",
            "2022-06-04 08:42:20,952 : INFO : worker thread finished; awaiting finish of 1 more threads\n",
            "2022-06-04 08:42:20,963 : INFO : worker thread finished; awaiting finish of 0 more threads\n",
            "2022-06-04 08:42:20,964 : INFO : EPOCH - 20 : training on 4952574 raw words (4480219 effective words) took 14.2s, 314840 effective words/s\n",
            "2022-06-04 08:42:22,109 : INFO : EPOCH 21 - PROGRESS: at 5.68% examples, 230564 words/s, in_qsize 16, out_qsize 0\n",
            "2022-06-04 08:42:23,133 : INFO : EPOCH 21 - PROGRESS: at 9.97% examples, 208761 words/s, in_qsize 16, out_qsize 1\n",
            "2022-06-04 08:42:24,329 : INFO : EPOCH 21 - PROGRESS: at 13.95% examples, 187422 words/s, in_qsize 13, out_qsize 2\n",
            "2022-06-04 08:42:25,384 : INFO : EPOCH 21 - PROGRESS: at 18.94% examples, 193269 words/s, in_qsize 15, out_qsize 0\n",
            "2022-06-04 08:42:26,506 : INFO : EPOCH 21 - PROGRESS: at 24.09% examples, 196126 words/s, in_qsize 16, out_qsize 0\n",
            "2022-06-04 08:42:27,529 : INFO : EPOCH 21 - PROGRESS: at 31.46% examples, 216115 words/s, in_qsize 16, out_qsize 3\n",
            "2022-06-04 08:42:28,618 : INFO : EPOCH 21 - PROGRESS: at 39.38% examples, 231131 words/s, in_qsize 16, out_qsize 2\n",
            "2022-06-04 08:42:29,629 : INFO : EPOCH 21 - PROGRESS: at 47.55% examples, 245555 words/s, in_qsize 15, out_qsize 0\n",
            "2022-06-04 08:42:30,673 : INFO : EPOCH 21 - PROGRESS: at 54.71% examples, 252449 words/s, in_qsize 15, out_qsize 0\n",
            "2022-06-04 08:42:31,727 : INFO : EPOCH 21 - PROGRESS: at 62.01% examples, 258558 words/s, in_qsize 15, out_qsize 0\n",
            "2022-06-04 08:42:32,776 : INFO : EPOCH 21 - PROGRESS: at 69.47% examples, 263711 words/s, in_qsize 15, out_qsize 1\n",
            "2022-06-04 08:42:33,783 : INFO : EPOCH 21 - PROGRESS: at 76.40% examples, 267487 words/s, in_qsize 15, out_qsize 0\n",
            "2022-06-04 08:42:34,843 : INFO : EPOCH 21 - PROGRESS: at 84.00% examples, 272037 words/s, in_qsize 15, out_qsize 2\n",
            "2022-06-04 08:42:35,883 : INFO : EPOCH 21 - PROGRESS: at 91.44% examples, 274853 words/s, in_qsize 14, out_qsize 1\n",
            "2022-06-04 08:42:36,774 : INFO : worker thread finished; awaiting finish of 7 more threads\n",
            "2022-06-04 08:42:36,820 : INFO : worker thread finished; awaiting finish of 6 more threads\n",
            "2022-06-04 08:42:36,831 : INFO : worker thread finished; awaiting finish of 5 more threads\n",
            "2022-06-04 08:42:36,896 : INFO : EPOCH 21 - PROGRESS: at 99.28% examples, 279290 words/s, in_qsize 4, out_qsize 0\n",
            "2022-06-04 08:42:36,907 : INFO : worker thread finished; awaiting finish of 4 more threads\n",
            "2022-06-04 08:42:36,928 : INFO : worker thread finished; awaiting finish of 3 more threads\n",
            "2022-06-04 08:42:36,940 : INFO : worker thread finished; awaiting finish of 2 more threads\n",
            "2022-06-04 08:42:36,941 : INFO : worker thread finished; awaiting finish of 1 more threads\n",
            "2022-06-04 08:42:36,949 : INFO : worker thread finished; awaiting finish of 0 more threads\n",
            "2022-06-04 08:42:36,951 : INFO : EPOCH - 21 : training on 4952574 raw words (4480799 effective words) took 16.0s, 280552 effective words/s\n",
            "2022-06-04 08:42:38,029 : INFO : EPOCH 22 - PROGRESS: at 6.10% examples, 261872 words/s, in_qsize 16, out_qsize 3\n",
            "2022-06-04 08:42:39,052 : INFO : EPOCH 22 - PROGRESS: at 14.14% examples, 305183 words/s, in_qsize 16, out_qsize 2\n",
            "2022-06-04 08:42:40,103 : INFO : EPOCH 22 - PROGRESS: at 21.47% examples, 308401 words/s, in_qsize 14, out_qsize 1\n",
            "2022-06-04 08:42:41,163 : INFO : EPOCH 22 - PROGRESS: at 28.98% examples, 311619 words/s, in_qsize 15, out_qsize 0\n",
            "2022-06-04 08:42:42,177 : INFO : EPOCH 22 - PROGRESS: at 36.39% examples, 312966 words/s, in_qsize 16, out_qsize 0\n",
            "2022-06-04 08:42:43,191 : INFO : EPOCH 22 - PROGRESS: at 43.45% examples, 312394 words/s, in_qsize 15, out_qsize 0\n",
            "2022-06-04 08:42:44,245 : INFO : EPOCH 22 - PROGRESS: at 50.83% examples, 312861 words/s, in_qsize 15, out_qsize 5\n",
            "2022-06-04 08:42:45,261 : INFO : EPOCH 22 - PROGRESS: at 59.08% examples, 318782 words/s, in_qsize 15, out_qsize 0\n",
            "2022-06-04 08:42:46,366 : INFO : EPOCH 22 - PROGRESS: at 66.22% examples, 316763 words/s, in_qsize 15, out_qsize 1\n",
            "2022-06-04 08:42:47,420 : INFO : EPOCH 22 - PROGRESS: at 73.66% examples, 315648 words/s, in_qsize 11, out_qsize 4\n",
            "2022-06-04 08:42:48,438 : INFO : EPOCH 22 - PROGRESS: at 81.03% examples, 316521 words/s, in_qsize 12, out_qsize 3\n",
            "2022-06-04 08:42:49,536 : INFO : EPOCH 22 - PROGRESS: at 88.75% examples, 316613 words/s, in_qsize 10, out_qsize 5\n",
            "2022-06-04 08:42:50,555 : INFO : EPOCH 22 - PROGRESS: at 96.93% examples, 319227 words/s, in_qsize 15, out_qsize 0\n",
            "2022-06-04 08:42:50,809 : INFO : worker thread finished; awaiting finish of 7 more threads\n",
            "2022-06-04 08:42:50,814 : INFO : worker thread finished; awaiting finish of 6 more threads\n",
            "2022-06-04 08:42:50,831 : INFO : worker thread finished; awaiting finish of 5 more threads\n",
            "2022-06-04 08:42:50,868 : INFO : worker thread finished; awaiting finish of 4 more threads\n",
            "2022-06-04 08:42:50,917 : INFO : worker thread finished; awaiting finish of 3 more threads\n",
            "2022-06-04 08:42:50,930 : INFO : worker thread finished; awaiting finish of 2 more threads\n",
            "2022-06-04 08:42:50,949 : INFO : worker thread finished; awaiting finish of 1 more threads\n",
            "2022-06-04 08:42:50,958 : INFO : worker thread finished; awaiting finish of 0 more threads\n",
            "2022-06-04 08:42:50,960 : INFO : EPOCH - 22 : training on 4952574 raw words (4481332 effective words) took 14.0s, 320215 effective words/s\n",
            "2022-06-04 08:42:52,016 : INFO : EPOCH 23 - PROGRESS: at 6.09% examples, 270312 words/s, in_qsize 15, out_qsize 2\n",
            "2022-06-04 08:42:53,071 : INFO : EPOCH 23 - PROGRESS: at 13.75% examples, 296741 words/s, in_qsize 15, out_qsize 1\n",
            "2022-06-04 08:42:54,069 : INFO : EPOCH 23 - PROGRESS: at 21.47% examples, 312099 words/s, in_qsize 14, out_qsize 0\n",
            "2022-06-04 08:42:55,078 : INFO : EPOCH 23 - PROGRESS: at 27.73% examples, 305271 words/s, in_qsize 14, out_qsize 1\n",
            "2022-06-04 08:42:56,104 : INFO : EPOCH 23 - PROGRESS: at 36.00% examples, 314115 words/s, in_qsize 15, out_qsize 0\n",
            "2022-06-04 08:42:57,228 : INFO : EPOCH 23 - PROGRESS: at 42.45% examples, 303514 words/s, in_qsize 16, out_qsize 0\n",
            "2022-06-04 08:42:58,547 : INFO : EPOCH 23 - PROGRESS: at 47.78% examples, 283159 words/s, in_qsize 15, out_qsize 4\n",
            "2022-06-04 08:42:59,523 : INFO : EPOCH 23 - PROGRESS: at 52.87% examples, 276725 words/s, in_qsize 15, out_qsize 0\n",
            "2022-06-04 08:43:00,530 : INFO : EPOCH 23 - PROGRESS: at 57.13% examples, 267165 words/s, in_qsize 15, out_qsize 0\n",
            "2022-06-04 08:43:01,638 : INFO : EPOCH 23 - PROGRESS: at 64.56% examples, 271459 words/s, in_qsize 15, out_qsize 2\n",
            "2022-06-04 08:43:02,720 : INFO : EPOCH 23 - PROGRESS: at 72.30% examples, 275416 words/s, in_qsize 14, out_qsize 1\n",
            "2022-06-04 08:43:03,780 : INFO : EPOCH 23 - PROGRESS: at 79.83% examples, 279248 words/s, in_qsize 15, out_qsize 0\n",
            "2022-06-04 08:43:04,846 : INFO : EPOCH 23 - PROGRESS: at 86.74% examples, 280371 words/s, in_qsize 14, out_qsize 1\n",
            "2022-06-04 08:43:05,925 : INFO : EPOCH 23 - PROGRESS: at 94.50% examples, 282898 words/s, in_qsize 15, out_qsize 0\n",
            "2022-06-04 08:43:06,478 : INFO : worker thread finished; awaiting finish of 7 more threads\n",
            "2022-06-04 08:43:06,480 : INFO : worker thread finished; awaiting finish of 6 more threads\n",
            "2022-06-04 08:43:06,496 : INFO : worker thread finished; awaiting finish of 5 more threads\n",
            "2022-06-04 08:43:06,510 : INFO : worker thread finished; awaiting finish of 4 more threads\n",
            "2022-06-04 08:43:06,515 : INFO : worker thread finished; awaiting finish of 3 more threads\n",
            "2022-06-04 08:43:06,518 : INFO : worker thread finished; awaiting finish of 2 more threads\n",
            "2022-06-04 08:43:06,533 : INFO : worker thread finished; awaiting finish of 1 more threads\n",
            "2022-06-04 08:43:06,580 : INFO : worker thread finished; awaiting finish of 0 more threads\n",
            "2022-06-04 08:43:06,582 : INFO : EPOCH - 23 : training on 4952574 raw words (4480511 effective words) took 15.6s, 286999 effective words/s\n",
            "2022-06-04 08:43:07,607 : INFO : EPOCH 24 - PROGRESS: at 5.88% examples, 265515 words/s, in_qsize 15, out_qsize 0\n",
            "2022-06-04 08:43:08,622 : INFO : EPOCH 24 - PROGRESS: at 13.14% examples, 291536 words/s, in_qsize 15, out_qsize 0\n",
            "2022-06-04 08:43:09,677 : INFO : EPOCH 24 - PROGRESS: at 20.48% examples, 299134 words/s, in_qsize 13, out_qsize 2\n",
            "2022-06-04 08:43:10,736 : INFO : EPOCH 24 - PROGRESS: at 27.93% examples, 304804 words/s, in_qsize 16, out_qsize 0\n",
            "2022-06-04 08:43:11,804 : INFO : EPOCH 24 - PROGRESS: at 36.00% examples, 309477 words/s, in_qsize 15, out_qsize 0\n",
            "2022-06-04 08:43:12,888 : INFO : EPOCH 24 - PROGRESS: at 43.43% examples, 308832 words/s, in_qsize 15, out_qsize 0\n",
            "2022-06-04 08:43:13,896 : INFO : EPOCH 24 - PROGRESS: at 50.48% examples, 309247 words/s, in_qsize 15, out_qsize 0\n",
            "2022-06-04 08:43:14,958 : INFO : EPOCH 24 - PROGRESS: at 57.94% examples, 309565 words/s, in_qsize 14, out_qsize 1\n",
            "2022-06-04 08:43:16,038 : INFO : EPOCH 24 - PROGRESS: at 65.38% examples, 310327 words/s, in_qsize 15, out_qsize 0\n",
            "2022-06-04 08:43:17,050 : INFO : EPOCH 24 - PROGRESS: at 72.90% examples, 312015 words/s, in_qsize 15, out_qsize 0\n",
            "2022-06-04 08:43:18,061 : INFO : EPOCH 24 - PROGRESS: at 80.23% examples, 313448 words/s, in_qsize 15, out_qsize 0\n",
            "2022-06-04 08:43:19,064 : INFO : EPOCH 24 - PROGRESS: at 86.93% examples, 312620 words/s, in_qsize 14, out_qsize 1\n",
            "2022-06-04 08:43:20,087 : INFO : EPOCH 24 - PROGRESS: at 94.69% examples, 314140 words/s, in_qsize 15, out_qsize 0\n",
            "2022-06-04 08:43:20,629 : INFO : worker thread finished; awaiting finish of 7 more threads\n",
            "2022-06-04 08:43:20,642 : INFO : worker thread finished; awaiting finish of 6 more threads\n",
            "2022-06-04 08:43:20,740 : INFO : worker thread finished; awaiting finish of 5 more threads\n",
            "2022-06-04 08:43:20,760 : INFO : worker thread finished; awaiting finish of 4 more threads\n",
            "2022-06-04 08:43:20,777 : INFO : worker thread finished; awaiting finish of 3 more threads\n",
            "2022-06-04 08:43:20,783 : INFO : worker thread finished; awaiting finish of 2 more threads\n",
            "2022-06-04 08:43:20,788 : INFO : worker thread finished; awaiting finish of 1 more threads\n",
            "2022-06-04 08:43:20,792 : INFO : worker thread finished; awaiting finish of 0 more threads\n",
            "2022-06-04 08:43:20,793 : INFO : EPOCH - 24 : training on 4952574 raw words (4479929 effective words) took 14.2s, 315476 effective words/s\n",
            "2022-06-04 08:43:21,841 : INFO : EPOCH 25 - PROGRESS: at 5.92% examples, 262526 words/s, in_qsize 13, out_qsize 2\n",
            "2022-06-04 08:43:22,847 : INFO : EPOCH 25 - PROGRESS: at 13.35% examples, 295633 words/s, in_qsize 16, out_qsize 0\n",
            "2022-06-04 08:43:23,872 : INFO : EPOCH 25 - PROGRESS: at 21.27% examples, 313596 words/s, in_qsize 16, out_qsize 0\n",
            "2022-06-04 08:43:24,895 : INFO : EPOCH 25 - PROGRESS: at 28.16% examples, 311753 words/s, in_qsize 9, out_qsize 2\n",
            "2022-06-04 08:43:25,965 : INFO : EPOCH 25 - PROGRESS: at 35.37% examples, 307962 words/s, in_qsize 16, out_qsize 3\n",
            "2022-06-04 08:43:27,017 : INFO : EPOCH 25 - PROGRESS: at 43.25% examples, 312045 words/s, in_qsize 15, out_qsize 0\n",
            "2022-06-04 08:43:28,111 : INFO : EPOCH 25 - PROGRESS: at 50.85% examples, 312070 words/s, in_qsize 15, out_qsize 0\n",
            "2022-06-04 08:43:29,186 : INFO : EPOCH 25 - PROGRESS: at 58.54% examples, 312619 words/s, in_qsize 13, out_qsize 2\n",
            "2022-06-04 08:43:30,224 : INFO : EPOCH 25 - PROGRESS: at 66.42% examples, 316309 words/s, in_qsize 15, out_qsize 0\n",
            "2022-06-04 08:43:31,252 : INFO : EPOCH 25 - PROGRESS: at 73.64% examples, 316122 words/s, in_qsize 15, out_qsize 0\n",
            "2022-06-04 08:43:32,406 : INFO : EPOCH 25 - PROGRESS: at 81.42% examples, 314780 words/s, in_qsize 13, out_qsize 2\n",
            "2022-06-04 08:43:33,481 : INFO : EPOCH 25 - PROGRESS: at 89.20% examples, 315633 words/s, in_qsize 12, out_qsize 3\n",
            "2022-06-04 08:43:34,484 : INFO : EPOCH 25 - PROGRESS: at 96.86% examples, 317340 words/s, in_qsize 15, out_qsize 0\n",
            "2022-06-04 08:43:34,745 : INFO : worker thread finished; awaiting finish of 7 more threads\n",
            "2022-06-04 08:43:34,755 : INFO : worker thread finished; awaiting finish of 6 more threads\n",
            "2022-06-04 08:43:34,769 : INFO : worker thread finished; awaiting finish of 5 more threads\n",
            "2022-06-04 08:43:34,776 : INFO : worker thread finished; awaiting finish of 4 more threads\n",
            "2022-06-04 08:43:34,794 : INFO : worker thread finished; awaiting finish of 3 more threads\n",
            "2022-06-04 08:43:34,796 : INFO : worker thread finished; awaiting finish of 2 more threads\n",
            "2022-06-04 08:43:34,809 : INFO : worker thread finished; awaiting finish of 1 more threads\n",
            "2022-06-04 08:43:34,824 : INFO : worker thread finished; awaiting finish of 0 more threads\n",
            "2022-06-04 08:43:34,825 : INFO : EPOCH - 25 : training on 4952574 raw words (4480309 effective words) took 14.0s, 319807 effective words/s\n",
            "2022-06-04 08:43:35,859 : INFO : EPOCH 26 - PROGRESS: at 5.88% examples, 263902 words/s, in_qsize 15, out_qsize 0\n",
            "2022-06-04 08:43:36,859 : INFO : EPOCH 26 - PROGRESS: at 12.94% examples, 288411 words/s, in_qsize 16, out_qsize 1\n",
            "2022-06-04 08:43:37,878 : INFO : EPOCH 26 - PROGRESS: at 20.49% examples, 303568 words/s, in_qsize 15, out_qsize 0\n",
            "2022-06-04 08:43:38,903 : INFO : EPOCH 26 - PROGRESS: at 27.94% examples, 310746 words/s, in_qsize 14, out_qsize 1\n",
            "2022-06-04 08:43:39,930 : INFO : EPOCH 26 - PROGRESS: at 35.39% examples, 311449 words/s, in_qsize 15, out_qsize 0\n",
            "2022-06-04 08:43:40,958 : INFO : EPOCH 26 - PROGRESS: at 43.25% examples, 316698 words/s, in_qsize 16, out_qsize 1\n",
            "2022-06-04 08:43:41,966 : INFO : EPOCH 26 - PROGRESS: at 50.48% examples, 316872 words/s, in_qsize 15, out_qsize 0\n",
            "2022-06-04 08:43:42,968 : INFO : EPOCH 26 - PROGRESS: at 57.75% examples, 317444 words/s, in_qsize 15, out_qsize 0\n",
            "2022-06-04 08:43:43,977 : INFO : EPOCH 26 - PROGRESS: at 64.56% examples, 316846 words/s, in_qsize 15, out_qsize 0\n",
            "2022-06-04 08:43:45,024 : INFO : EPOCH 26 - PROGRESS: at 71.88% examples, 315990 words/s, in_qsize 16, out_qsize 1\n",
            "2022-06-04 08:43:46,062 : INFO : EPOCH 26 - PROGRESS: at 79.44% examples, 318202 words/s, in_qsize 12, out_qsize 2\n",
            "2022-06-04 08:43:47,141 : INFO : EPOCH 26 - PROGRESS: at 86.76% examples, 316242 words/s, in_qsize 16, out_qsize 2\n",
            "2022-06-04 08:43:48,174 : INFO : EPOCH 26 - PROGRESS: at 94.11% examples, 315924 words/s, in_qsize 16, out_qsize 1\n",
            "2022-06-04 08:43:48,730 : INFO : worker thread finished; awaiting finish of 7 more threads\n",
            "2022-06-04 08:43:48,750 : INFO : worker thread finished; awaiting finish of 6 more threads\n",
            "2022-06-04 08:43:48,754 : INFO : worker thread finished; awaiting finish of 5 more threads\n",
            "2022-06-04 08:43:48,760 : INFO : worker thread finished; awaiting finish of 4 more threads\n",
            "2022-06-04 08:43:48,848 : INFO : worker thread finished; awaiting finish of 3 more threads\n",
            "2022-06-04 08:43:48,869 : INFO : worker thread finished; awaiting finish of 2 more threads\n",
            "2022-06-04 08:43:48,883 : INFO : worker thread finished; awaiting finish of 1 more threads\n",
            "2022-06-04 08:43:48,891 : INFO : worker thread finished; awaiting finish of 0 more threads\n",
            "2022-06-04 08:43:48,892 : INFO : EPOCH - 26 : training on 4952574 raw words (4480573 effective words) took 14.1s, 318825 effective words/s\n",
            "2022-06-04 08:43:49,934 : INFO : EPOCH 27 - PROGRESS: at 6.10% examples, 270261 words/s, in_qsize 15, out_qsize 1\n",
            "2022-06-04 08:43:50,949 : INFO : EPOCH 27 - PROGRESS: at 12.95% examples, 285031 words/s, in_qsize 10, out_qsize 5\n",
            "2022-06-04 08:43:51,982 : INFO : EPOCH 27 - PROGRESS: at 20.48% examples, 299720 words/s, in_qsize 13, out_qsize 2\n",
            "2022-06-04 08:43:52,995 : INFO : EPOCH 27 - PROGRESS: at 27.54% examples, 304256 words/s, in_qsize 13, out_qsize 2\n",
            "2022-06-04 08:43:54,162 : INFO : EPOCH 27 - PROGRESS: at 36.19% examples, 308389 words/s, in_qsize 15, out_qsize 0\n",
            "2022-06-04 08:43:55,175 : INFO : EPOCH 27 - PROGRESS: at 43.63% examples, 311393 words/s, in_qsize 15, out_qsize 0\n",
            "2022-06-04 08:43:56,245 : INFO : EPOCH 27 - PROGRESS: at 50.84% examples, 310872 words/s, in_qsize 15, out_qsize 2\n",
            "2022-06-04 08:43:57,298 : INFO : EPOCH 27 - PROGRESS: at 58.33% examples, 310623 words/s, in_qsize 14, out_qsize 1\n",
            "2022-06-04 08:43:58,373 : INFO : EPOCH 27 - PROGRESS: at 65.58% examples, 310495 words/s, in_qsize 13, out_qsize 2\n",
            "2022-06-04 08:43:59,402 : INFO : EPOCH 27 - PROGRESS: at 73.22% examples, 312506 words/s, in_qsize 15, out_qsize 0\n",
            "2022-06-04 08:44:00,430 : INFO : EPOCH 27 - PROGRESS: at 80.63% examples, 313432 words/s, in_qsize 13, out_qsize 2\n",
            "2022-06-04 08:44:01,450 : INFO : EPOCH 27 - PROGRESS: at 87.94% examples, 314335 words/s, in_qsize 15, out_qsize 0\n",
            "2022-06-04 08:44:02,533 : INFO : EPOCH 27 - PROGRESS: at 95.67% examples, 314311 words/s, in_qsize 15, out_qsize 0\n",
            "2022-06-04 08:44:02,872 : INFO : worker thread finished; awaiting finish of 7 more threads\n",
            "2022-06-04 08:44:02,914 : INFO : worker thread finished; awaiting finish of 6 more threads\n",
            "2022-06-04 08:44:02,916 : INFO : worker thread finished; awaiting finish of 5 more threads\n",
            "2022-06-04 08:44:02,918 : INFO : worker thread finished; awaiting finish of 4 more threads\n",
            "2022-06-04 08:44:02,972 : INFO : worker thread finished; awaiting finish of 3 more threads\n",
            "2022-06-04 08:44:02,985 : INFO : worker thread finished; awaiting finish of 2 more threads\n",
            "2022-06-04 08:44:03,005 : INFO : worker thread finished; awaiting finish of 1 more threads\n",
            "2022-06-04 08:44:03,011 : INFO : worker thread finished; awaiting finish of 0 more threads\n",
            "2022-06-04 08:44:03,013 : INFO : EPOCH - 27 : training on 4952574 raw words (4480131 effective words) took 14.1s, 317541 effective words/s\n",
            "2022-06-04 08:44:04,049 : INFO : EPOCH 28 - PROGRESS: at 6.36% examples, 280567 words/s, in_qsize 14, out_qsize 1\n",
            "2022-06-04 08:44:05,094 : INFO : EPOCH 28 - PROGRESS: at 13.36% examples, 290600 words/s, in_qsize 15, out_qsize 6\n",
            "2022-06-04 08:44:06,102 : INFO : EPOCH 28 - PROGRESS: at 21.27% examples, 311467 words/s, in_qsize 15, out_qsize 0\n",
            "2022-06-04 08:44:07,115 : INFO : EPOCH 28 - PROGRESS: at 27.55% examples, 304281 words/s, in_qsize 15, out_qsize 5\n",
            "2022-06-04 08:44:08,142 : INFO : EPOCH 28 - PROGRESS: at 35.39% examples, 309784 words/s, in_qsize 15, out_qsize 0\n",
            "2022-06-04 08:44:09,306 : INFO : EPOCH 28 - PROGRESS: at 43.85% examples, 312310 words/s, in_qsize 15, out_qsize 0\n",
            "2022-06-04 08:44:10,342 : INFO : EPOCH 28 - PROGRESS: at 51.41% examples, 314716 words/s, in_qsize 14, out_qsize 1\n",
            "2022-06-04 08:44:11,366 : INFO : EPOCH 28 - PROGRESS: at 58.89% examples, 315851 words/s, in_qsize 16, out_qsize 1\n",
            "2022-06-04 08:44:12,408 : INFO : EPOCH 28 - PROGRESS: at 66.03% examples, 315904 words/s, in_qsize 15, out_qsize 1\n",
            "2022-06-04 08:44:13,429 : INFO : EPOCH 28 - PROGRESS: at 73.44% examples, 316199 words/s, in_qsize 16, out_qsize 1\n",
            "2022-06-04 08:44:14,493 : INFO : EPOCH 28 - PROGRESS: at 81.02% examples, 316558 words/s, in_qsize 15, out_qsize 0\n",
            "2022-06-04 08:44:15,538 : INFO : EPOCH 28 - PROGRESS: at 88.17% examples, 315878 words/s, in_qsize 16, out_qsize 0\n",
            "2022-06-04 08:44:16,553 : INFO : EPOCH 28 - PROGRESS: at 95.34% examples, 315343 words/s, in_qsize 16, out_qsize 0\n",
            "2022-06-04 08:44:16,952 : INFO : worker thread finished; awaiting finish of 7 more threads\n",
            "2022-06-04 08:44:17,081 : INFO : worker thread finished; awaiting finish of 6 more threads\n",
            "2022-06-04 08:44:17,092 : INFO : worker thread finished; awaiting finish of 5 more threads\n",
            "2022-06-04 08:44:17,097 : INFO : worker thread finished; awaiting finish of 4 more threads\n",
            "2022-06-04 08:44:17,106 : INFO : worker thread finished; awaiting finish of 3 more threads\n",
            "2022-06-04 08:44:17,114 : INFO : worker thread finished; awaiting finish of 2 more threads\n",
            "2022-06-04 08:44:17,116 : INFO : worker thread finished; awaiting finish of 1 more threads\n",
            "2022-06-04 08:44:17,123 : INFO : worker thread finished; awaiting finish of 0 more threads\n",
            "2022-06-04 08:44:17,125 : INFO : EPOCH - 28 : training on 4952574 raw words (4480155 effective words) took 14.1s, 317736 effective words/s\n",
            "2022-06-04 08:44:18,147 : INFO : EPOCH 29 - PROGRESS: at 5.66% examples, 258987 words/s, in_qsize 12, out_qsize 3\n",
            "2022-06-04 08:44:19,154 : INFO : EPOCH 29 - PROGRESS: at 13.95% examples, 312131 words/s, in_qsize 16, out_qsize 0\n",
            "2022-06-04 08:44:20,164 : INFO : EPOCH 29 - PROGRESS: at 20.48% examples, 305365 words/s, in_qsize 14, out_qsize 1\n",
            "2022-06-04 08:44:21,208 : INFO : EPOCH 29 - PROGRESS: at 27.55% examples, 306215 words/s, in_qsize 16, out_qsize 0\n",
            "2022-06-04 08:44:22,241 : INFO : EPOCH 29 - PROGRESS: at 35.39% examples, 311036 words/s, in_qsize 14, out_qsize 1\n",
            "2022-06-04 08:44:23,272 : INFO : EPOCH 29 - PROGRESS: at 42.87% examples, 312755 words/s, in_qsize 15, out_qsize 0\n",
            "2022-06-04 08:44:24,275 : INFO : EPOCH 29 - PROGRESS: at 50.29% examples, 315425 words/s, in_qsize 15, out_qsize 0\n",
            "2022-06-04 08:44:25,289 : INFO : EPOCH 29 - PROGRESS: at 57.55% examples, 315716 words/s, in_qsize 15, out_qsize 0\n",
            "2022-06-04 08:44:27,337 : INFO : EPOCH 29 - PROGRESS: at 72.90% examples, 320103 words/s, in_qsize 15, out_qsize 0\n",
            "2022-06-04 08:44:28,404 : INFO : EPOCH 29 - PROGRESS: at 79.83% examples, 317618 words/s, in_qsize 15, out_qsize 0\n",
            "2022-06-04 08:44:29,452 : INFO : EPOCH 29 - PROGRESS: at 87.13% examples, 317511 words/s, in_qsize 15, out_qsize 0\n",
            "2022-06-04 08:44:30,553 : INFO : EPOCH 29 - PROGRESS: at 95.48% examples, 319571 words/s, in_qsize 15, out_qsize 0\n",
            "2022-06-04 08:44:30,938 : INFO : worker thread finished; awaiting finish of 7 more threads\n",
            "2022-06-04 08:44:30,959 : INFO : worker thread finished; awaiting finish of 6 more threads\n",
            "2022-06-04 08:44:30,979 : INFO : worker thread finished; awaiting finish of 5 more threads\n",
            "2022-06-04 08:44:31,005 : INFO : worker thread finished; awaiting finish of 4 more threads\n",
            "2022-06-04 08:44:31,064 : INFO : worker thread finished; awaiting finish of 3 more threads\n",
            "2022-06-04 08:44:31,086 : INFO : worker thread finished; awaiting finish of 2 more threads\n",
            "2022-06-04 08:44:31,094 : INFO : worker thread finished; awaiting finish of 1 more threads\n",
            "2022-06-04 08:44:31,097 : INFO : worker thread finished; awaiting finish of 0 more threads\n",
            "2022-06-04 08:44:31,101 : INFO : EPOCH - 29 : training on 4952574 raw words (4480631 effective words) took 14.0s, 320989 effective words/s\n",
            "2022-06-04 08:44:32,175 : INFO : EPOCH 30 - PROGRESS: at 6.10% examples, 272482 words/s, in_qsize 16, out_qsize 4\n",
            "2022-06-04 08:44:33,150 : INFO : EPOCH 30 - PROGRESS: at 13.96% examples, 307926 words/s, in_qsize 14, out_qsize 1\n",
            "2022-06-04 08:44:34,244 : INFO : EPOCH 30 - PROGRESS: at 21.47% examples, 308892 words/s, in_qsize 15, out_qsize 0\n",
            "2022-06-04 08:44:35,270 : INFO : EPOCH 30 - PROGRESS: at 28.58% examples, 310284 words/s, in_qsize 16, out_qsize 0\n",
            "2022-06-04 08:44:36,298 : INFO : EPOCH 30 - PROGRESS: at 36.39% examples, 314476 words/s, in_qsize 15, out_qsize 0\n",
            "2022-06-04 08:44:37,305 : INFO : EPOCH 30 - PROGRESS: at 43.63% examples, 315380 words/s, in_qsize 15, out_qsize 0\n",
            "2022-06-04 08:44:38,360 : INFO : EPOCH 30 - PROGRESS: at 51.04% examples, 315371 words/s, in_qsize 15, out_qsize 0\n",
            "2022-06-04 08:44:39,363 : INFO : EPOCH 30 - PROGRESS: at 58.33% examples, 316079 words/s, in_qsize 16, out_qsize 4\n",
            "2022-06-04 08:44:40,394 : INFO : EPOCH 30 - PROGRESS: at 66.22% examples, 319700 words/s, in_qsize 15, out_qsize 0\n",
            "2022-06-04 08:44:41,418 : INFO : EPOCH 30 - PROGRESS: at 73.30% examples, 318398 words/s, in_qsize 14, out_qsize 1\n",
            "2022-06-04 08:44:42,514 : INFO : EPOCH 30 - PROGRESS: at 81.02% examples, 318695 words/s, in_qsize 15, out_qsize 1\n",
            "2022-06-04 08:44:43,509 : INFO : EPOCH 30 - PROGRESS: at 88.36% examples, 319590 words/s, in_qsize 16, out_qsize 0\n",
            "2022-06-04 08:44:44,546 : INFO : EPOCH 30 - PROGRESS: at 96.51% examples, 321568 words/s, in_qsize 15, out_qsize 0\n",
            "2022-06-04 08:44:44,831 : INFO : worker thread finished; awaiting finish of 7 more threads\n",
            "2022-06-04 08:44:44,905 : INFO : worker thread finished; awaiting finish of 6 more threads\n",
            "2022-06-04 08:44:44,959 : INFO : worker thread finished; awaiting finish of 5 more threads\n",
            "2022-06-04 08:44:44,979 : INFO : worker thread finished; awaiting finish of 4 more threads\n",
            "2022-06-04 08:44:44,996 : INFO : worker thread finished; awaiting finish of 3 more threads\n",
            "2022-06-04 08:44:45,005 : INFO : worker thread finished; awaiting finish of 2 more threads\n",
            "2022-06-04 08:44:45,012 : INFO : worker thread finished; awaiting finish of 1 more threads\n",
            "2022-06-04 08:44:45,017 : INFO : worker thread finished; awaiting finish of 0 more threads\n",
            "2022-06-04 08:44:45,021 : INFO : EPOCH - 30 : training on 4952574 raw words (4480579 effective words) took 13.9s, 322144 effective words/s\n",
            "2022-06-04 08:44:46,079 : INFO : EPOCH 31 - PROGRESS: at 6.10% examples, 266852 words/s, in_qsize 15, out_qsize 1\n",
            "2022-06-04 08:44:47,158 : INFO : EPOCH 31 - PROGRESS: at 13.95% examples, 304977 words/s, in_qsize 16, out_qsize 4\n",
            "2022-06-04 08:44:48,130 : INFO : EPOCH 31 - PROGRESS: at 21.06% examples, 306946 words/s, in_qsize 15, out_qsize 0\n",
            "2022-06-04 08:44:49,210 : INFO : EPOCH 31 - PROGRESS: at 28.56% examples, 309030 words/s, in_qsize 15, out_qsize 0\n",
            "2022-06-04 08:44:50,308 : INFO : EPOCH 31 - PROGRESS: at 36.22% examples, 307640 words/s, in_qsize 13, out_qsize 5\n",
            "2022-06-04 08:44:51,351 : INFO : EPOCH 31 - PROGRESS: at 44.66% examples, 316419 words/s, in_qsize 14, out_qsize 1\n",
            "2022-06-04 08:44:52,388 : INFO : EPOCH 31 - PROGRESS: at 51.41% examples, 313345 words/s, in_qsize 16, out_qsize 4\n",
            "2022-06-04 08:44:53,399 : INFO : EPOCH 31 - PROGRESS: at 58.90% examples, 315074 words/s, in_qsize 14, out_qsize 1\n",
            "2022-06-04 08:44:54,418 : INFO : EPOCH 31 - PROGRESS: at 66.42% examples, 317221 words/s, in_qsize 15, out_qsize 1\n",
            "2022-06-04 08:44:55,485 : INFO : EPOCH 31 - PROGRESS: at 74.23% examples, 318311 words/s, in_qsize 15, out_qsize 0\n",
            "2022-06-04 08:44:56,533 : INFO : EPOCH 31 - PROGRESS: at 81.82% examples, 318865 words/s, in_qsize 15, out_qsize 0\n",
            "2022-06-04 08:44:57,584 : INFO : EPOCH 31 - PROGRESS: at 89.41% examples, 319275 words/s, in_qsize 15, out_qsize 0\n",
            "2022-06-04 08:44:58,660 : INFO : EPOCH 31 - PROGRESS: at 96.90% examples, 318357 words/s, in_qsize 15, out_qsize 0\n",
            "2022-06-04 08:44:58,883 : INFO : worker thread finished; awaiting finish of 7 more threads\n",
            "2022-06-04 08:44:58,945 : INFO : worker thread finished; awaiting finish of 6 more threads\n",
            "2022-06-04 08:44:58,951 : INFO : worker thread finished; awaiting finish of 5 more threads\n",
            "2022-06-04 08:44:58,965 : INFO : worker thread finished; awaiting finish of 4 more threads\n",
            "2022-06-04 08:44:58,986 : INFO : worker thread finished; awaiting finish of 3 more threads\n",
            "2022-06-04 08:44:58,997 : INFO : worker thread finished; awaiting finish of 2 more threads\n",
            "2022-06-04 08:44:58,999 : INFO : worker thread finished; awaiting finish of 1 more threads\n",
            "2022-06-04 08:44:59,004 : INFO : worker thread finished; awaiting finish of 0 more threads\n",
            "2022-06-04 08:44:59,006 : INFO : EPOCH - 31 : training on 4952574 raw words (4480283 effective words) took 14.0s, 320686 effective words/s\n",
            "2022-06-04 08:45:00,040 : INFO : EPOCH 32 - PROGRESS: at 6.10% examples, 274463 words/s, in_qsize 15, out_qsize 0\n",
            "2022-06-04 08:45:01,052 : INFO : EPOCH 32 - PROGRESS: at 13.35% examples, 296423 words/s, in_qsize 16, out_qsize 0\n",
            "2022-06-04 08:45:02,087 : INFO : EPOCH 32 - PROGRESS: at 20.32% examples, 298565 words/s, in_qsize 13, out_qsize 2\n",
            "2022-06-04 08:45:03,097 : INFO : EPOCH 32 - PROGRESS: at 27.54% examples, 305873 words/s, in_qsize 15, out_qsize 0\n",
            "2022-06-04 08:45:04,111 : INFO : EPOCH 32 - PROGRESS: at 34.79% examples, 306625 words/s, in_qsize 16, out_qsize 0\n",
            "2022-06-04 08:45:05,116 : INFO : EPOCH 32 - PROGRESS: at 42.23% examples, 310514 words/s, in_qsize 16, out_qsize 1\n",
            "2022-06-04 08:45:06,162 : INFO : EPOCH 32 - PROGRESS: at 49.74% examples, 311993 words/s, in_qsize 16, out_qsize 4\n",
            "2022-06-04 08:45:07,160 : INFO : EPOCH 32 - PROGRESS: at 56.92% examples, 312961 words/s, in_qsize 15, out_qsize 0\n",
            "2022-06-04 08:45:08,228 : INFO : EPOCH 32 - PROGRESS: at 64.35% examples, 313743 words/s, in_qsize 15, out_qsize 0\n",
            "2022-06-04 08:45:09,233 : INFO : EPOCH 32 - PROGRESS: at 71.31% examples, 312718 words/s, in_qsize 16, out_qsize 0\n",
            "2022-06-04 08:45:10,285 : INFO : EPOCH 32 - PROGRESS: at 79.03% examples, 314574 words/s, in_qsize 15, out_qsize 0\n",
            "2022-06-04 08:45:11,337 : INFO : EPOCH 32 - PROGRESS: at 86.76% examples, 316058 words/s, in_qsize 15, out_qsize 0\n",
            "2022-06-04 08:45:12,385 : INFO : EPOCH 32 - PROGRESS: at 94.11% examples, 315400 words/s, in_qsize 15, out_qsize 0\n",
            "2022-06-04 08:45:12,933 : INFO : worker thread finished; awaiting finish of 7 more threads\n",
            "2022-06-04 08:45:13,015 : INFO : worker thread finished; awaiting finish of 6 more threads\n",
            "2022-06-04 08:45:13,026 : INFO : worker thread finished; awaiting finish of 5 more threads\n",
            "2022-06-04 08:45:13,047 : INFO : worker thread finished; awaiting finish of 4 more threads\n",
            "2022-06-04 08:45:13,073 : INFO : worker thread finished; awaiting finish of 3 more threads\n",
            "2022-06-04 08:45:13,085 : INFO : worker thread finished; awaiting finish of 2 more threads\n",
            "2022-06-04 08:45:13,088 : INFO : worker thread finished; awaiting finish of 1 more threads\n",
            "2022-06-04 08:45:13,094 : INFO : worker thread finished; awaiting finish of 0 more threads\n",
            "2022-06-04 08:45:13,095 : INFO : EPOCH - 32 : training on 4952574 raw words (4480974 effective words) took 14.1s, 318499 effective words/s\n",
            "2022-06-04 08:45:13,097 : INFO : training on a 158482368 raw words (143371544 effective words) took 467.0s, 306996 effective words/s\n"
          ]
        },
        {
          "output_type": "stream",
          "name": "stdout",
          "text": [
            "CPU times: user 14min 30s, sys: 3.93 s, total: 14min 34s\n",
            "Wall time: 7min 47s\n"
          ]
        },
        {
          "output_type": "execute_result",
          "data": {
            "text/plain": [
              "(143371544, 158482368)"
            ]
          },
          "metadata": {},
          "execution_count": 19
        }
      ],
      "source": [
        "%%time\n",
        "w2v_model.train(documents, total_examples=len(documents), epochs=W2V_EPOCH)"
      ]
    },
    {
      "cell_type": "markdown",
      "metadata": {
        "id": "2MIVhP2OJDmy"
      },
      "source": [
        "# Tokenize Text"
      ]
    },
    {
      "cell_type": "code",
      "execution_count": null,
      "metadata": {
        "id": "goDKIqTdHDkP",
        "colab": {
          "base_uri": "https://localhost:8080/"
        },
        "outputId": "58c2789f-2ac2-448d-8ee9-d183482d77c2"
      },
      "outputs": [
        {
          "output_type": "stream",
          "name": "stdout",
          "text": [
            "Total words 92190\n",
            "CPU times: user 4.85 s, sys: 112 ms, total: 4.96 s\n",
            "Wall time: 4.99 s\n"
          ]
        }
      ],
      "source": [
        "%%time\n",
        "tokenizer = Tokenizer()\n",
        "tokenizer.fit_on_texts(train.input)\n",
        "\n",
        "vocab_size = len(tokenizer.word_index) + 1\n",
        "print(\"Total words\", vocab_size)"
      ]
    },
    {
      "cell_type": "code",
      "execution_count": null,
      "metadata": {
        "id": "pJ2G1205JCm-",
        "colab": {
          "base_uri": "https://localhost:8080/"
        },
        "outputId": "da0177b3-130a-4035-a2dc-ce5b82066241"
      },
      "outputs": [
        {
          "output_type": "stream",
          "name": "stdout",
          "text": [
            "CPU times: user 4.35 s, sys: 147 ms, total: 4.5 s\n",
            "Wall time: 4.47 s\n"
          ]
        }
      ],
      "source": [
        "%%time\n",
        "x_train = pad_sequences(tokenizer.texts_to_sequences(train.input), maxlen=SEQUENCE_LENGTH)\n",
        "x_eval = pad_sequences(tokenizer.texts_to_sequences(eval.input), maxlen=SEQUENCE_LENGTH)\n",
        "x_test = pad_sequences(tokenizer.texts_to_sequences(test.input), maxlen=SEQUENCE_LENGTH)"
      ]
    },
    {
      "cell_type": "markdown",
      "metadata": {
        "id": "00rY17OXJdq5"
      },
      "source": [
        "# Encode the Labels"
      ]
    },
    {
      "cell_type": "code",
      "execution_count": null,
      "metadata": {
        "id": "1HKfrDh8Jfy-",
        "colab": {
          "base_uri": "https://localhost:8080/"
        },
        "outputId": "f8f1b284-c0ad-4204-a99c-92775009b0a6"
      },
      "outputs": [
        {
          "output_type": "execute_result",
          "data": {
            "text/plain": [
              "['positive', 'negative']"
            ]
          },
          "metadata": {},
          "execution_count": 22
        }
      ],
      "source": [
        "labels = train.label.unique().tolist()\n",
        "labels"
      ]
    },
    {
      "cell_type": "code",
      "execution_count": null,
      "metadata": {
        "id": "UjluegUsJpob"
      },
      "outputs": [],
      "source": [
        "encoder = LabelEncoder()\n",
        "encoder.fit(train.label.tolist())\n",
        "\n",
        "y_train = encoder.transform(train.label.tolist())\n",
        "y_eval = encoder.transform(eval.label.tolist())\n",
        "y_test = encoder.transform(test.label.tolist())\n",
        "\n",
        "y_train = y_train.reshape(-1,1)\n",
        "y_eval = y_eval.reshape(-1, 1)\n",
        "y_test = y_test.reshape(-1,1)"
      ]
    },
    {
      "cell_type": "code",
      "execution_count": null,
      "metadata": {
        "id": "JVScylmXMh0X",
        "colab": {
          "base_uri": "https://localhost:8080/"
        },
        "outputId": "848deb81-425e-44be-8ac8-29c9354bc9ee"
      },
      "outputs": [
        {
          "output_type": "stream",
          "name": "stdout",
          "text": [
            "x_train: (40000, 300)\n",
            "y_train: (40000, 1)\n",
            "\n",
            "x_eval: (5000, 300)\n",
            "y_eval: (5000, 1)\n",
            "\n",
            "x_test: (5000, 300)\n",
            "y_test: (5000, 1)\n"
          ]
        }
      ],
      "source": [
        "print(\"x_train:\", x_train.shape)\n",
        "print(\"y_train:\", y_train.shape)\n",
        "print()\n",
        "print(\"x_eval:\", x_eval.shape)\n",
        "print(\"y_eval:\", y_eval.shape)\n",
        "print()\n",
        "print(\"x_test:\", x_test.shape)\n",
        "print(\"y_test:\", y_test.shape)"
      ]
    },
    {
      "cell_type": "code",
      "execution_count": null,
      "metadata": {
        "id": "H9AD3LRYMsTH",
        "colab": {
          "base_uri": "https://localhost:8080/"
        },
        "outputId": "f2967c2d-92b2-4caf-eee3-e0bfea7c648b"
      },
      "outputs": [
        {
          "output_type": "execute_result",
          "data": {
            "text/plain": [
              "array([[1],\n",
              "       [0],\n",
              "       [1],\n",
              "       [1],\n",
              "       [0],\n",
              "       [1],\n",
              "       [1],\n",
              "       [1],\n",
              "       [1],\n",
              "       [0]])"
            ]
          },
          "metadata": {},
          "execution_count": 25
        }
      ],
      "source": [
        "y_train[:10]"
      ]
    },
    {
      "cell_type": "markdown",
      "metadata": {
        "id": "gqT2X1cUMwxe"
      },
      "source": [
        "# Now make the embedding layer"
      ]
    },
    {
      "cell_type": "code",
      "execution_count": null,
      "metadata": {
        "id": "9o69gpsQMudU",
        "colab": {
          "base_uri": "https://localhost:8080/"
        },
        "outputId": "01efa333-957e-4e99-db81-7ed5ab6ec4ec"
      },
      "outputs": [
        {
          "output_type": "stream",
          "name": "stdout",
          "text": [
            "(92190, 300)\n"
          ]
        }
      ],
      "source": [
        "embedding_matrix = np.zeros((vocab_size, W2V_SIZE))\n",
        "for word, i in tokenizer.word_index.items():\n",
        "  if word in w2v_model.wv:\n",
        "    embedding_matrix[i] = w2v_model.wv[word]\n",
        "print(embedding_matrix.shape)"
      ]
    },
    {
      "cell_type": "code",
      "execution_count": null,
      "metadata": {
        "id": "7TuuHwZAM24Y"
      },
      "outputs": [],
      "source": [
        "embedding_layer = Embedding(vocab_size, \n",
        "                            W2V_SIZE, \n",
        "                            weights=[embedding_matrix], \n",
        "                            input_length=SEQUENCE_LENGTH, \n",
        "                            trainable=False)"
      ]
    },
    {
      "cell_type": "markdown",
      "metadata": {
        "id": "bFv4M61KM8ge"
      },
      "source": [
        "# Build the Model"
      ]
    },
    {
      "cell_type": "code",
      "execution_count": null,
      "metadata": {
        "id": "NxfaaQXiM6bo",
        "colab": {
          "base_uri": "https://localhost:8080/"
        },
        "outputId": "a47d7b28-c21d-4b0c-dca6-54a6f8f4dedb"
      },
      "outputs": [
        {
          "output_type": "stream",
          "name": "stdout",
          "text": [
            "Model: \"sequential_2\"\n",
            "_________________________________________________________________\n",
            " Layer (type)                Output Shape              Param #   \n",
            "=================================================================\n",
            " embedding (Embedding)       (None, 300, 300)          27657000  \n",
            "                                                                 \n",
            " spatial_dropout1d_2 (Spatia  (None, 300, 300)         0         \n",
            " lDropout1D)                                                     \n",
            "                                                                 \n",
            " lstm_2 (LSTM)               (None, 100)               160400    \n",
            "                                                                 \n",
            " dense_2 (Dense)             (None, 1)                 101       \n",
            "                                                                 \n",
            "=================================================================\n",
            "Total params: 27,817,501\n",
            "Trainable params: 160,501\n",
            "Non-trainable params: 27,657,000\n",
            "_________________________________________________________________\n",
            "None\n"
          ]
        }
      ],
      "source": [
        "lstm_out = 100\n",
        "\n",
        "model = Sequential()\n",
        "model.add(embedding_layer)\n",
        "model.add(SpatialDropout1D(0.4))\n",
        "model.add(LSTM(lstm_out, dropout=0.2, recurrent_dropout=0.2))\n",
        "model.add(Dense(1, activation='sigmoid'))\n",
        "model.compile(loss = 'binary_crossentropy', optimizer='adam',metrics = ['accuracy'])\n",
        "print(model.summary())"
      ]
    },
    {
      "cell_type": "code",
      "execution_count": null,
      "metadata": {
        "id": "I74oY6AErI47"
      },
      "outputs": [],
      "source": [
        "from keras.callbacks import ModelCheckpoint\n",
        "filepath=\"LSTM_w2v_best_weights.{epoch:02d}-{val_accuracy:.4f}.hdf5\"\n",
        "checkpoint = ModelCheckpoint(filepath, monitor='val_accuracy', verbose=1, save_best_only=True, mode='max')\n",
        "change_lr = ReduceLROnPlateau(monitor='val_loss', patience=5, cooldown=0)"
      ]
    },
    {
      "cell_type": "code",
      "execution_count": 36,
      "metadata": {
        "id": "H-sb0WXvztq6",
        "colab": {
          "base_uri": "https://localhost:8080/"
        },
        "outputId": "1f714146-2463-4c7c-a59b-dc0845a2c016"
      },
      "outputs": [
        {
          "output_type": "stream",
          "name": "stdout",
          "text": [
            "Epoch 1/8\n",
            "40/40 [==============================] - ETA: 0s - loss: 0.5657 - accuracy: 0.6962 \n",
            "Epoch 1: val_accuracy improved from -inf to 0.81560, saving model to LSTM_w2v_best_weights.01-0.8156.hdf5\n",
            "40/40 [==============================] - 515s 13s/step - loss: 0.5657 - accuracy: 0.6962 - val_loss: 0.4857 - val_accuracy: 0.8156 - lr: 0.0010\n",
            "Epoch 2/8\n",
            "40/40 [==============================] - ETA: 0s - loss: 0.4193 - accuracy: 0.8117 \n",
            "Epoch 2: val_accuracy improved from 0.81560 to 0.85260, saving model to LSTM_w2v_best_weights.02-0.8526.hdf5\n",
            "40/40 [==============================] - 505s 13s/step - loss: 0.4193 - accuracy: 0.8117 - val_loss: 0.3856 - val_accuracy: 0.8526 - lr: 0.0010\n",
            "Epoch 3/8\n",
            "40/40 [==============================] - ETA: 0s - loss: 0.3737 - accuracy: 0.8407 \n",
            "Epoch 3: val_accuracy did not improve from 0.85260\n",
            "40/40 [==============================] - 499s 12s/step - loss: 0.3737 - accuracy: 0.8407 - val_loss: 0.5873 - val_accuracy: 0.7546 - lr: 0.0010\n",
            "Epoch 4/8\n",
            "40/40 [==============================] - ETA: 0s - loss: 0.3584 - accuracy: 0.8503 \n",
            "Epoch 4: val_accuracy improved from 0.85260 to 0.87100, saving model to LSTM_w2v_best_weights.04-0.8710.hdf5\n",
            "40/40 [==============================] - 502s 13s/step - loss: 0.3584 - accuracy: 0.8503 - val_loss: 0.3388 - val_accuracy: 0.8710 - lr: 0.0010\n",
            "Epoch 5/8\n",
            "40/40 [==============================] - ETA: 0s - loss: 0.3297 - accuracy: 0.8648 \n",
            "Epoch 5: val_accuracy did not improve from 0.87100\n",
            "40/40 [==============================] - 496s 12s/step - loss: 0.3297 - accuracy: 0.8648 - val_loss: 0.4182 - val_accuracy: 0.8374 - lr: 0.0010\n",
            "Epoch 6/8\n",
            "40/40 [==============================] - ETA: 0s - loss: 0.3197 - accuracy: 0.8694 \n",
            "Epoch 6: val_accuracy improved from 0.87100 to 0.87620, saving model to LSTM_w2v_best_weights.06-0.8762.hdf5\n",
            "40/40 [==============================] - 494s 12s/step - loss: 0.3197 - accuracy: 0.8694 - val_loss: 0.3192 - val_accuracy: 0.8762 - lr: 0.0010\n",
            "Epoch 7/8\n",
            "40/40 [==============================] - ETA: 0s - loss: 0.3013 - accuracy: 0.8773 \n",
            "Epoch 7: val_accuracy did not improve from 0.87620\n",
            "40/40 [==============================] - 498s 12s/step - loss: 0.3013 - accuracy: 0.8773 - val_loss: 0.3406 - val_accuracy: 0.8676 - lr: 0.0010\n",
            "Epoch 8/8\n",
            "40/40 [==============================] - ETA: 0s - loss: 0.2932 - accuracy: 0.8794 \n",
            "Epoch 8: val_accuracy did not improve from 0.87620\n",
            "40/40 [==============================] - 500s 12s/step - loss: 0.2932 - accuracy: 0.8794 - val_loss: 0.3385 - val_accuracy: 0.8736 - lr: 0.0010\n",
            "CPU times: user 1h 59min 2s, sys: 8min 57s, total: 2h 8min\n",
            "Wall time: 1h 7min 28s\n"
          ]
        }
      ],
      "source": [
        "%%time\n",
        "history = model.fit(x_train, y_train, \n",
        "                    batch_size=BATCH_SIZE, \n",
        "                    epochs=EPOCHS,\n",
        "                    validation_data=(x_eval, y_eval), \n",
        "                    callbacks = [checkpoint, change_lr])"
      ]
    },
    {
      "cell_type": "code",
      "source": [
        "from keras.models import load_model\n",
        "loaded_model = load_model('LSTM_w2v_best_weights.06-0.8762.hdf5')"
      ],
      "metadata": {
        "id": "Kl6D6ZMZMG1K"
      },
      "execution_count": 37,
      "outputs": []
    },
    {
      "cell_type": "code",
      "source": [
        "%%time\n",
        "score = loaded_model.evaluate(x_test, y_test, batch_size=BATCH_SIZE)\n",
        "print()\n",
        "print(\"ACCURACY:\",score[1])\n",
        "print(\"LOSS:\",score[0])"
      ],
      "metadata": {
        "colab": {
          "base_uri": "https://localhost:8080/"
        },
        "id": "S0McbN51Kfct",
        "outputId": "7a233595-608b-40d7-f86f-02b6ce7946a9"
      },
      "execution_count": 38,
      "outputs": [
        {
          "output_type": "stream",
          "name": "stdout",
          "text": [
            "5/5 [==============================] - 28s 5s/step - loss: 0.3162 - accuracy: 0.8778\n",
            "\n",
            "ACCURACY: 0.8777999877929688\n",
            "LOSS: 0.3162410855293274\n",
            "CPU times: user 25.2 s, sys: 1.53 s, total: 26.8 s\n",
            "Wall time: 42.5 s\n"
          ]
        }
      ]
    },
    {
      "cell_type": "code",
      "source": [
        "acc = history.history['accuracy']\n",
        "val_acc = history.history['val_accuracy']\n",
        "loss = history.history['loss']\n",
        "val_loss = history.history['val_loss']\n",
        " \n",
        "epochs = range(len(acc))\n",
        " \n",
        "plt.plot(epochs, acc, 'b', label='Training accuracy')\n",
        "plt.plot(epochs, val_acc, 'r', label='Validation accuracy')\n",
        "plt.title('Training and validation accuracy')\n",
        "plt.legend()\n",
        " \n",
        "plt.figure()\n",
        " \n",
        "plt.plot(epochs, loss, 'b', label='Training loss')\n",
        "plt.plot(epochs, val_loss, 'r', label='Validation loss')\n",
        "plt.title('Training and validation loss')\n",
        "plt.legend()\n",
        " \n",
        "plt.show()"
      ],
      "metadata": {
        "colab": {
          "base_uri": "https://localhost:8080/",
          "height": 545
        },
        "id": "9zJWWc2DMaJu",
        "outputId": "daa05945-5a0b-4c2e-ba98-29687830367c"
      },
      "execution_count": 39,
      "outputs": [
        {
          "output_type": "display_data",
          "data": {
            "text/plain": [
              "<Figure size 432x288 with 1 Axes>"
            ],
            "image/png": "[encoded data removed]"
          },
          "metadata": {
            "needs_background": "light"
          }
        },
        {
          "output_type": "display_data",
          "data": {
            "text/plain": [
              "<Figure size 432x288 with 1 Axes>"
            ],
            "image/png": "[encoded data removed]"
          },
          "metadata": {
            "needs_background": "light"
          }
        }
      ]
    },
    {
      "cell_type": "code",
      "source": [
        "%%time\n",
        "y_pred_1d = []\n",
        "y_test_1d = list(test.label)\n",
        "scores = model.predict(x_test, verbose=1, batch_size=1000)\n",
        "y_pred_1d = [\"negative\" if score < 0.5 else \"positive\" for score in scores]"
      ],
      "metadata": {
        "colab": {
          "base_uri": "https://localhost:8080/"
        },
        "id": "aNH3JXc8MtYH",
        "outputId": "cd9a52b7-6cf2-4a1f-8c69-dc0ecd8ba51b"
      },
      "execution_count": 41,
      "outputs": [
        {
          "output_type": "stream",
          "name": "stdout",
          "text": [
            "5/5 [==============================] - 16s 3s/step\n",
            "CPU times: user 24.1 s, sys: 2.41 s, total: 26.5 s\n",
            "Wall time: 20.5 s\n"
          ]
        }
      ]
    },
    {
      "cell_type": "code",
      "source": [
        "def plot_confusion_matrix(cm, classes,\n",
        "                          title='Confusion matrix',\n",
        "                          cmap=plt.cm.Blues):\n",
        "    \"\"\"\n",
        "    This function prints and plots the confusion matrix.\n",
        "    Normalization can be applied by setting `normalize=True`.\n",
        "    \"\"\"\n",
        "\n",
        "    cm = cm.astype('float') / cm.sum(axis=1)[:, np.newaxis]\n",
        "\n",
        "    plt.imshow(cm, interpolation='nearest', cmap=cmap)\n",
        "    plt.title(title, fontsize=30)\n",
        "    plt.colorbar()\n",
        "    tick_marks = np.arange(len(classes))\n",
        "    plt.xticks(tick_marks, classes, rotation=90, fontsize=22)\n",
        "    plt.yticks(tick_marks, classes, fontsize=22)\n",
        "\n",
        "    fmt = '.2f'\n",
        "    thresh = cm.max() / 2.\n",
        "    for i, j in itertools.product(range(cm.shape[0]), range(cm.shape[1])):\n",
        "        plt.text(j, i, format(cm[i, j], fmt),\n",
        "                 horizontalalignment=\"center\",\n",
        "                 color=\"white\" if cm[i, j] > thresh else \"black\")\n",
        "\n",
        "    plt.ylabel('True label', fontsize=25)\n",
        "    plt.xlabel('Predicted label', fontsize=25)"
      ],
      "metadata": {
        "id": "rBm7cnnJM8G7"
      },
      "execution_count": 42,
      "outputs": []
    },
    {
      "cell_type": "code",
      "source": [
        "%%time\n",
        "cnf_matrix = confusion_matrix(y_test_1d, y_pred_1d)\n",
        "plt.figure(figsize=(12,12))\n",
        "plot_confusion_matrix(cnf_matrix, classes=train.label.unique(), title=\"Confusion matrix\")\n",
        "plt.show()"
      ],
      "metadata": {
        "colab": {
          "base_uri": "https://localhost:8080/",
          "height": 792
        },
        "id": "CwtTokTnNCW-",
        "outputId": "da7ef2ea-a5ed-4fd3-ce66-e13e859d03f9"
      },
      "execution_count": 44,
      "outputs": [
        {
          "output_type": "display_data",
          "data": {
            "text/plain": [
              "<Figure size 864x864 with 2 Axes>"
            ],
            "image/png": "[encoded data removed]"
          },
          "metadata": {
            "needs_background": "light"
          }
        },
        {
          "output_type": "stream",
          "name": "stdout",
          "text": [
            "CPU times: user 444 ms, sys: 5.63 ms, total: 450 ms\n",
            "Wall time: 553 ms\n"
          ]
        }
      ]
    },
    {
      "cell_type": "code",
      "source": [
        "print(classification_report(y_test_1d, y_pred_1d))"
      ],
      "metadata": {
        "colab": {
          "base_uri": "https://localhost:8080/"
        },
        "id": "my_KhATgNrJf",
        "outputId": "20cbfd8c-e7d2-43f0-b298-c5cc6bde013f"
      },
      "execution_count": 45,
      "outputs": [
        {
          "output_type": "stream",
          "name": "stdout",
          "text": [
            "              precision    recall  f1-score   support\n",
            "\n",
            "    negative       0.85      0.91      0.88      2529\n",
            "    positive       0.90      0.84      0.87      2471\n",
            "\n",
            "    accuracy                           0.88      5000\n",
            "   macro avg       0.88      0.88      0.88      5000\n",
            "weighted avg       0.88      0.88      0.88      5000\n",
            "\n"
          ]
        }
      ]
    },
    {
      "cell_type": "code",
      "source": [
        "accuracy_score(y_test_1d, y_pred_1d)"
      ],
      "metadata": {
        "colab": {
          "base_uri": "https://localhost:8080/"
        },
        "id": "FzHLGuifNukx",
        "outputId": "a482f87d-728f-4714-d62e-2ec050a420cd"
      },
      "execution_count": 46,
      "outputs": [
        {
          "output_type": "execute_result",
          "data": {
            "text/plain": [
              "0.8776"
            ]
          },
          "metadata": {},
          "execution_count": 46
        }
      ]
    },
    {
      "cell_type": "code",
      "source": [
        "loaded_model.save(KERAS_MODEL)\n",
        "w2v_model.save(WORD2VEC_MODEL)\n",
        "pickle.dump(tokenizer, open(TOKENIZER_MODEL, \"wb\"), protocol=0)\n",
        "pickle.dump(encoder, open(ENCODER_MODEL, \"wb\"), protocol=0)"
      ],
      "metadata": {
        "colab": {
          "base_uri": "https://localhost:8080/"
        },
        "id": "rur2mCrSN0XG",
        "outputId": "1584467b-b01c-410e-f5db-bf908c77fa2e"
      },
      "execution_count": 47,
      "outputs": [
        {
          "output_type": "stream",
          "name": "stderr",
          "text": [
            "2022-06-04 10:16:39,337 : INFO : saving Word2Vec object under model.w2v, separately None\n",
            "2022-06-04 10:16:39,340 : INFO : not storing attribute vectors_norm\n",
            "2022-06-04 10:16:39,344 : INFO : not storing attribute cum_table\n",
            "2022-06-04 10:16:42,062 : INFO : saved model.w2v\n"
          ]
        }
      ]
    }
  ],
  "metadata": {
    "colab": {
      "collapsed_sections": [],
      "name": "word2vec_imdb_direct.ipynb",
      "provenance": []
    },
    "kernelspec": {
      "display_name": "Python 3",
      "name": "python3"
    },
    "language_info": {
      "name": "python"
    }
  },
  "nbformat": 4,
  "nbformat_minor": 0
}